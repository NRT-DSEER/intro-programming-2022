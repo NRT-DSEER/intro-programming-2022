{
 "cells": [
  {
   "cell_type": "markdown",
   "id": "a62b022f",
   "metadata": {},
   "source": [
    "# Previous Lesson Overview - Day 10 Pandas_Math\n",
    "\n",
    "In the previous lesson you learned about dataframes: \n",
    "\n",
    "1. Introduction to math and stats with dataframes\n",
    "2. Introduction to groupby and pivot tables"
   ]
  },
  {
   "cell_type": "markdown",
   "id": "81a22096",
   "metadata": {},
   "source": [
    "# Day 11: Advanced plotting\n",
    "We will learn how to create plots from big datasets, bulding on the pandas skills we learned in the past three days."
   ]
  },
  {
   "cell_type": "markdown",
   "id": "cc86b5a3",
   "metadata": {},
   "source": [
    "# Goals:\n",
    "\n",
    "Students will be able to :\n",
    "\n",
    "1. Explore data with the seaborn plotting library\n",
    "2. Write functions to make figures from daframes\n",
    "3. Make figures with FacetGrid and save figures\n",
    "4. Make simple maps\n",
    "5. Make gifs"
   ]
  },
  {
   "attachments": {
    "pandas_art.jpeg": {
     "image/jpeg": "[encoded data removed]"
    }
   },
   "cell_type": "markdown",
   "id": "798c32fb",
   "metadata": {},
   "source": [
    "![pandas_art.jpeg](attachment:pandas_art.jpeg)"
   ]
  },
  {
   "cell_type": "markdown",
   "id": "ba88d203",
   "metadata": {},
   "source": [
    "# System version when preparing this notebook\n",
    "- python 3.8.11\n",
    "- pandas 1.1.3\n",
    "- numpy 1.20.3\n",
    "- Seaborn 0.11.1\n",
    "\n",
    "This lesson was prepared by Maria D Hernadez Limon for NRT Environment Science Bootcamps 2021. "
   ]
  },
  {
   "cell_type": "markdown",
   "id": "03c86d55",
   "metadata": {},
   "source": [
    "# Set-Up working Space"
   ]
  },
  {
   "cell_type": "code",
   "execution_count": null,
   "id": "a381fbb2",
   "metadata": {},
   "outputs": [],
   "source": [
    "import pandas as pd\n",
    "import numpy as np\n",
    "\n",
    "import re\n",
    "import datetime\n",
    "\n",
    "import matplotlib as mpl\n",
    "import matplotlib.pyplot as plt\n",
    "%matplotlib inline\n",
    "\n",
    "#seaborn - more advanced plotting options but always import matplotlib too as some seaborn utility comes from matplot\n",
    "import seaborn as sns\n"
   ]
  },
  {
   "cell_type": "code",
   "execution_count": null,
   "id": "96392003",
   "metadata": {},
   "outputs": [],
   "source": [
    "##some libraries that allow is to run from stats \n",
    "import scipy\n",
    "from scipy import stats"
   ]
  },
  {
   "cell_type": "code",
   "execution_count": null,
   "id": "b78f9993",
   "metadata": {},
   "outputs": [],
   "source": [
    "#this is the specific directory where the data we want to use is stored\n",
    "datadirectory = '../data/'\n",
    "\n",
    "#this is the directory where we want to store the data we finish analyzing\n",
    "data_out_directory='../output/'"
   ]
  },
  {
   "cell_type": "markdown",
   "id": "4e572f64",
   "metadata": {},
   "source": [
    "# 17.  SEABORN\n",
    "[seaborn](https://seaborn.pydata.org/) is a visualization tool based on matplotlib. \n",
    "\n",
    "You can look at the seaborn **[gallery](https://seaborn.pydata.org/examples/index.html)** and look at all the plotting options it offers.\n",
    "\n",
    "we import as:\n",
    "\n",
    "`import seaborn as sns` and after we load matplot.\n",
    "\n",
    "Seaborn has both axes-level plotting functions and figure-level plotting functions.\n",
    "\n",
    "If a seaborn plot has the following text in the description **'This is an Axes-level function'** then you need to map it on to a figure level object that we can make with matplotlib. If it says **'Figure-level interface for drawing relational plots onto a FacetGrid'** then you don't need to use map on to some figure level object because it already is one."
   ]
  },
  {
   "cell_type": "markdown",
   "id": "f5c5833b",
   "metadata": {},
   "source": [
    "To plot we need to select some data."
   ]
  },
  {
   "cell_type": "code",
   "execution_count": null,
   "id": "57de5812",
   "metadata": {},
   "outputs": [],
   "source": [
    "temp_data=pd.read_csv(datadirectory+'Temp_data_2010-2020.csv')\n",
    "temp_data"
   ]
  },
  {
   "cell_type": "markdown",
   "id": "6f283f7b",
   "metadata": {},
   "source": [
    "# 17.1 Axes-level plotting functions\n",
    "Reminder, for axes-level plotting functions we must first make a figure level object."
   ]
  },
  {
   "cell_type": "markdown",
   "id": "c7c14eab",
   "metadata": {},
   "source": [
    "# lineplot \n",
    "https://seaborn.pydata.org/generated/seaborn.lineplot.html\n",
    "\n",
    "The hue option allows me to plot based on diff categories I have.\n",
    "\n",
    "There are close to 20,000 points on this graph so using date in the x-axis is going to be messy no matter what we do."
   ]
  },
  {
   "cell_type": "markdown",
   "id": "06600a0a",
   "metadata": {},
   "source": [
    "### select a smaller subset of the data for easier visuals"
   ]
  },
  {
   "cell_type": "code",
   "execution_count": null,
   "id": "9d6d11b4",
   "metadata": {},
   "outputs": [],
   "source": [
    "#use loc to select a specific year - here I selected 2018\n",
    "temp_data_subset=temp_data.loc[temp_data['Year']==2018,]\n",
    "temp_data_subset"
   ]
  },
  {
   "cell_type": "markdown",
   "id": "89d56ecf",
   "metadata": {},
   "source": [
    "# Make a customized lineplot"
   ]
  },
  {
   "cell_type": "markdown",
   "id": "f30ed954",
   "metadata": {},
   "source": [
    "Let's make a line plot of Month vs TempF, one line per lake for the year we selected"
   ]
  },
  {
   "cell_type": "markdown",
   "id": "75037a68",
   "metadata": {},
   "source": [
    "# with matplot"
   ]
  },
  {
   "cell_type": "code",
   "execution_count": null,
   "id": "7cf7e4a0",
   "metadata": {},
   "outputs": [],
   "source": [
    "fig, ax = plt.subplots()\n",
    "\n",
    "plt.plot(\"Month\",\"Temp_F\",data=temp_data_subset.loc[temp_data_subset['Lake']=='SU'],label='SU')\n",
    "plt.plot(\"Month\",\"Temp_F\",data=temp_data_subset.loc[temp_data_subset['Lake']=='MI'],label='MI')\n",
    "plt.plot(\"Month\",\"Temp_F\",data=temp_data_subset.loc[temp_data_subset['Lake']=='HU'],label='HU')\n",
    "plt.plot(\"Month\",\"Temp_F\",data=temp_data_subset.loc[temp_data_subset['Lake']=='ER'],label='ER')\n",
    "plt.plot(\"Month\",\"Temp_F\",data=temp_data_subset.loc[temp_data_subset['Lake']=='ON'],label='ON')\n",
    "\n",
    "plt.legend()\n",
    "plt.show()"
   ]
  },
  {
   "cell_type": "markdown",
   "id": "b6880d73",
   "metadata": {},
   "source": [
    "this approach takes a lot of code, we are plotting the same thing multiple times and only changing the lake so it would be great to have the option to tell python we want a line for each lake..."
   ]
  },
  {
   "cell_type": "markdown",
   "id": "16fc7ba7",
   "metadata": {},
   "source": [
    "# with seaborn"
   ]
  },
  {
   "cell_type": "code",
   "execution_count": null,
   "id": "6b1aee4f",
   "metadata": {},
   "outputs": [],
   "source": [
    "sns.lineplot(x=\"Month\", y=\"Temp_F\", hue=\"Lake\",data=temp_data_subset,palette=\"Set1\")"
   ]
  },
  {
   "cell_type": "markdown",
   "id": "f4eb7ee8",
   "metadata": {},
   "source": [
    "**Seaborn** to the rescue, with the **hue** command we can tell python to make a line for each item in hue"
   ]
  },
  {
   "cell_type": "markdown",
   "id": "2106ff4f",
   "metadata": {},
   "source": [
    "To make a plot with seaborn we can simply call sns.someplot to get a plot.  But to customize we need to add axes- more below- but writing one line of code to get a plot is great to explore data"
   ]
  },
  {
   "cell_type": "markdown",
   "id": "4316ceeb",
   "metadata": {},
   "source": [
    "### Note: if you don't specify ax, seaborn will make a plot but it will print a line reminding you that the plot is an axes level figure. In order to customize anything in the plot you will need to call the axes."
   ]
  },
  {
   "cell_type": "markdown",
   "id": "7ce6feb6",
   "metadata": {},
   "source": [
    "### Make into a figure - customize with axes"
   ]
  },
  {
   "cell_type": "code",
   "execution_count": null,
   "id": "f58d7d2e",
   "metadata": {},
   "outputs": [],
   "source": [
    "#make the figure object using matplotlib\n",
    "fig, ax = plt.subplots()\n",
    "\n",
    "#set the sns plot to the ax axis\n",
    "ax=sns.lineplot(x=\"Month\", y=\"Temp_F\", hue=\"Lake\",data=temp_data_subset,palette=\"Set1\")\n",
    "\n",
    "#or \n",
    "#sns.lineplot(x=\"Month\", y=\"Temp_F\", hue=\"Lake\",data=temp_data_subset,palette=\"Set1\",ax=ax)\n",
    "\n",
    "#to make changes we call ax as Katie taught us\n",
    "ax.set_xlabel('Month number')\n",
    "\n",
    "plt.show()"
   ]
  },
  {
   "cell_type": "markdown",
   "id": "503e44ba",
   "metadata": {},
   "source": [
    "We can see the seasonal temperature pattern in the lakes. We also see that Eries (smallest lake - most southern) is usually the warmest and that Superior (the largest- most northern lake) is the coldest."
   ]
  },
  {
   "cell_type": "markdown",
   "id": "64bae57c",
   "metadata": {},
   "source": [
    "# [Heatplot](https://seaborn.pydata.org/generated/seaborn.heatmap.html) - quick data analysis example\n"
   ]
  },
  {
   "cell_type": "code",
   "execution_count": null,
   "id": "87dd8e71",
   "metadata": {},
   "outputs": [],
   "source": [
    "pokemon=pd.read_csv(datadirectory+'Pokemon.csv')\n",
    "pokemon"
   ]
  },
  {
   "cell_type": "code",
   "execution_count": null,
   "id": "56e4d44a",
   "metadata": {},
   "outputs": [],
   "source": [
    "def make_heat(cols_to_keep,agg_fun_wanted):\n",
    "    \"\"\"With this function we can group type and generation by different power stats and get a heatplot\"\"\"\n",
    "    \n",
    "    #let's group our pokemon with groupby- reference notebook from day10\n",
    "    pokemon_grouped=pokemon.groupby(['Generation','Type 1'])[cols_to_keep].agg(agg_fun_wanted).reset_index().set_index(['Generation','Type 1'])\n",
    "    \n",
    "    #all these commands are matplot level commands\n",
    "    \n",
    "    #set the figure space\n",
    "    fig, ax = plt.subplots()\n",
    "    #sets the size of the figure based on how many paramters we input\n",
    "    fig.set_size_inches(len(cols_to_keep)*3,15)\n",
    "    \n",
    "    #will make a heatmap \n",
    "    sns.heatmap(pokemon_grouped,cmap=\"RdBu_r\",center=100,ax=ax)\n",
    "    \n",
    "    #keep the axes level empty\n",
    "    ax.set_xlabel('')\n",
    "    #show the plot\n",
    "    plt.show()\n",
    "\n",
    "make_heat(['Attack','Defense','HP'],[max,min])"
   ]
  },
  {
   "cell_type": "markdown",
   "id": "b8e9cc06",
   "metadata": {},
   "source": [
    "# 17.2 [FacetGrid](https://seaborn.pydata.org/generated/seaborn.FacetGrid.html#seaborn.FacetGrid) - Multi-plot grid for plotting conditional relationships.\n",
    "\n",
    "\n",
    "With FacetGrid you create a figure level object that you contains space for multiple subplots then you map plots onto each grid.\n",
    "\n",
    "Thus we no longer need for loops to make figures with subplots. However, there will be times when a for loop is the best option!"
   ]
  },
  {
   "cell_type": "code",
   "execution_count": null,
   "id": "97aba602",
   "metadata": {},
   "outputs": [],
   "source": [
    "g= sns.FacetGrid(temp_data, col=\"Lake\",  row=\"Month\")\n",
    "g"
   ]
  },
  {
   "cell_type": "code",
   "execution_count": null,
   "id": "51826a2a",
   "metadata": {},
   "outputs": [],
   "source": [
    "g = sns.FacetGrid(temp_data, col=\"Lake\",  row=\"Month\")\n",
    "\n",
    "#scatterplot takes and x and y val so we pass them to the map function below\n",
    "g.map_dataframe(sns.scatterplot, \"Year\", \"Temp_F\")"
   ]
  },
  {
   "cell_type": "markdown",
   "id": "b2357971",
   "metadata": {},
   "source": [
    "## Make modifications to the figure by calling g.some_command - Takes a minute to run\n",
    "Here are some of the commands I use most often, see the facetgrid doc for more options."
   ]
  },
  {
   "cell_type": "code",
   "execution_count": null,
   "id": "665834ef",
   "metadata": {},
   "outputs": [],
   "source": [
    "g = sns.FacetGrid(temp_data, col=\"Lake\",  row=\"Month\")\n",
    "#scatterplot takes x and Y so we pass those to map_dataframe\n",
    "g.map_dataframe(sns.scatterplot, \"Year\", \"Temp_F\",hue=\"Year\",palette=\"tab20\")\n",
    "\n",
    "#main title\n",
    "g.fig.suptitle(f'Average Annual Surface Water Temperature')\n",
    "\n",
    "#subplot titles\n",
    "g.set_titles(col_template=\"{col_name} Temp\", row_template=\"month={row_name}\")\n",
    "\n",
    "#add legend\n",
    "g.add_legend()\n",
    "\n",
    "#labels (x,y)\n",
    "g.set_axis_labels(\"Temperature F\", \"Time\")\n",
    "\n",
    "#limits\n",
    "g.set(xlim=(2010, 2020), ylim=(0, 100), xticks=[2010, 2015, 2020], yticks=[20, 40, 60,80, 100])\n",
    "\n",
    "#add text\n",
    "def annotate(data, **kws):\n",
    "    n = data.shape[0]\n",
    "    ax = plt.gca()\n",
    "    ax.text(.1, .6, f\"Num obs = {n}\", transform=ax.transAxes)\n",
    "    \n",
    "g.map_dataframe(annotate)\n",
    "\n",
    "#set size -- I'll comment this for now so seaborn find the best size\n",
    "#g.fig.set_size_inches(24,24)\n",
    "\n",
    "#save\n",
    "g.tight_layout()\n",
    "g.fig.subplots_adjust(wspace=.05,top=.96)\n",
    "#g.savefig(data_out_directory+\"gl_facet_plot.png\")"
   ]
  },
  {
   "cell_type": "markdown",
   "id": "44c33822",
   "metadata": {},
   "source": [
    "## - Legend \n",
    "https://matplotlib.org/stable/api/_as_gen/matplotlib.pyplot.legend.html"
   ]
  },
  {
   "cell_type": "markdown",
   "id": "af00a444",
   "metadata": {},
   "source": [
    "# - colors and palettes\n",
    "https://matplotlib.org/stable/tutorials/colors/colormaps.html"
   ]
  },
  {
   "cell_type": "markdown",
   "id": "0e67cccd",
   "metadata": {},
   "source": [
    "# 17.2 Skill Check\n",
    "\n",
    "Violin plots- combination of box plot and kernel density plot\n",
    "https://seaborn.pydata.org/generated/seaborn.violinplot.html\n",
    "\n",
    "Violin plots are axes level figures. Use the methods I showed you above to make a 2 (rows) by 3 (cols) figure, where each subplot holds a violin plot for each generation(your col value, and x). The value represented in the violinplots is Attack (your y val) and I want a violin for each Type 1 (your hue val). \n"
   ]
  },
  {
   "cell_type": "code",
   "execution_count": null,
   "id": "b81ff6e0",
   "metadata": {},
   "outputs": [],
   "source": [
    "#set up your facetgrid here, I've already selected that we want 3 cols, update the col input\n",
    "g = sns.FacetGrid(pokemon,col=your_column_here,col_wrap=3)\n",
    "\n",
    "\"\"\"\n",
    "Now let's map violinplot to the grid space we made- look at the violinplot documentation to see the variables\n",
    "available,hint: You will need x,y,hue and I've already added palette.\n",
    "\n",
    "g.map_dataframe(sns.violinplot,x=same_as_colum_above,\n",
    "y=what_value_we_want_in_violin,hue=what_does_each_violin_represent,palette='tab20')\"\"\"\n",
    "\n",
    "\n",
    "#your clean commands here\n",
    "g.map_dataframe(?)\n",
    "\n",
    "### I already cleaned up the plot for you but make sure this makes sense to you ###\n",
    "#let's add a legend- no more code needed\n",
    "g.add_legend()\n",
    "#add some labels- no more code needed\n",
    "g.set_axis_labels(\"\", \"Attack\")\n",
    "#hide x ticks - no more code needed\n",
    "g.set_xticklabels([])\n",
    "#for figure size - no more code needed\n",
    "g.fig.set_size_inches(16,6)\n",
    "\n",
    "\n",
    "#let'see our plot\n",
    "g"
   ]
  },
  {
   "cell_type": "markdown",
   "id": "a66b9ec5",
   "metadata": {},
   "source": [
    "# 17.3 FacetGrid included - More complicated example"
   ]
  },
  {
   "cell_type": "markdown",
   "id": "3809b737",
   "metadata": {},
   "source": [
    "# [lmplot](https://seaborn.pydata.org/generated/seaborn.lmplot.html)\n",
    "\n",
    "This is one of my favorite plots, it's so easy to make and shows a lot of information. \n",
    "\n",
    "Here I use a lot of the options within lmplot but keep in mind that most are optional for aesthetic purposes."
   ]
  },
  {
   "cell_type": "code",
   "execution_count": null,
   "id": "202f196d",
   "metadata": {},
   "outputs": [],
   "source": [
    "#call lmplot since we want subplots and use the arguments for lmplot to customize plot\n",
    "g=sns.lmplot(x=\"Year\", y=\"Temp_F\", col=\"Lake\", x_estimator=np.mean, ci=95,fit_reg=True,\n",
    "             data=temp_data,col_wrap=3, height=4, col_order=['SU','MI','HU','ER','ON'],\n",
    "             line_kws={'color': 'red','alpha': 0.9, 'lw':.9},scatter_kws={'s': 30, 'alpha': 0.8, 'color':'black'})\n",
    "\n",
    "#figure level changes\n",
    "g.fig.set_size_inches(9,6)\n",
    "g.fig.suptitle(f'Average Annual Surface Water Temperature')\n",
    "g.fig.subplots_adjust(wspace=.15,top=.9)\n",
    "\n",
    "#all the commands are showed you earlier can be attached to each other!! these are subplot level changes\n",
    "g.set_axis_labels(\"Year\", 'Temperature ($^\\circ$F)').set(xlim=(2010, 2020))\n",
    "\n",
    "#to save\n",
    "g.savefig(data_out_directory+\"gl_temp_over_time.pdf\")"
   ]
  },
  {
   "cell_type": "markdown",
   "id": "5d7d55e5",
   "metadata": {},
   "source": [
    "# 17.4 Recap: AxesSubplot vs Facetgrid"
   ]
  },
  {
   "cell_type": "code",
   "execution_count": null,
   "id": "f8d56e54",
   "metadata": {},
   "outputs": [],
   "source": [
    "#AxesSubplot - will plot all in one plot\n",
    "sns.boxplot(x=\"Month\", y=\"Temp_F\", data=temp_data,hue='Lake',whis=[0, 100], width=.6, palette=\"RdBu\")"
   ]
  },
  {
   "cell_type": "code",
   "execution_count": null,
   "id": "638106a6",
   "metadata": {},
   "outputs": [],
   "source": [
    "#facegrid - use facetgrid for make multiple subplots \n",
    "#can also only make one plot if you change the col argument, play with it yourself\n",
    "sns.catplot(x=\"Month\", y=\"Temp_F\", col=\"Lake\",\n",
    "                data=temp_data, kind=\"box\",height=4, aspect=.7,palette=\"RdBu\")"
   ]
  },
  {
   "cell_type": "markdown",
   "id": "beb3112f",
   "metadata": {},
   "source": [
    "Again: If a seaborn plot has the following text in the description **'This is an Axes-level function'** then you need to map it on to a facetgrid or matplot fig object like I did for scatterplot. \n",
    "\n",
    "If it says **'Figure-level interface for drawing relational plots onto a FacetGrid.'** then you don't need to use this mapping technique because this plot type is already built on facegrid. "
   ]
  },
  {
   "cell_type": "markdown",
   "id": "c6c57f98",
   "metadata": {},
   "source": [
    "# 17.5  For loop to the rescue"
   ]
  },
  {
   "cell_type": "code",
   "execution_count": null,
   "id": "9cc67add",
   "metadata": {},
   "outputs": [],
   "source": [
    "#for reference\n",
    "pokemon.head()"
   ]
  },
  {
   "cell_type": "markdown",
   "id": "0339723a",
   "metadata": {},
   "source": [
    "### I want to make multiple scatter plots that show all_stats v some_stat. Fit a line and get an r<sup>2</sup> \n",
    "\n",
    "My first ituition was to use relplot (the figure level version of scatterplot). \n",
    "However, facetgrid requires that I have categories to choose from in my table. Sure I could reshape the pokemon table mand make a plotting function to make it work with facetgrid but it would take me more code/time to do it that way than if I did it with a for loop. Besides I want to add some text so I think a foor loop is best here."
   ]
  },
  {
   "cell_type": "markdown",
   "id": "a0f1d13f",
   "metadata": {},
   "source": [
    "#### more on [relplot](https://seaborn.pydata.org/generated/seaborn.relplot.html#seaborn.relplot)"
   ]
  },
  {
   "cell_type": "code",
   "execution_count": null,
   "id": "c9a36de1",
   "metadata": {},
   "outputs": [],
   "source": [
    "#first attemp\n",
    "sns.relplot(data=pokemon,x=\"Defense\", y=\"Attack\", hue=\"Generation\")"
   ]
  },
  {
   "cell_type": "code",
   "execution_count": null,
   "id": "1e55449a",
   "metadata": {},
   "outputs": [],
   "source": [
    "#second attemp\n",
    "sns.relplot(data=pokemon,x=\"Defense\", y=\"Attack\",col='Generation',hue=\"Generation\",col_wrap=3)"
   ]
  },
  {
   "cell_type": "markdown",
   "id": "a67970f3",
   "metadata": {},
   "source": [
    "## Step 1: Make subplot with a foor loop that adds to a figure we have made"
   ]
  },
  {
   "cell_type": "code",
   "execution_count": null,
   "id": "1910abbc",
   "metadata": {},
   "outputs": [],
   "source": [
    "#set up working space we will add subplots with the for loop\n",
    "fig = plt.figure()\n",
    "fig.subplots_adjust(hspace=0.3, wspace=0.2)\n",
    "\n",
    "################################### EDIT THIS SECTION TO CHANGE SUBPLOTS ################\n",
    "#select stats for y_axis wanted, this will change the number of subplots- \n",
    "\n",
    "#only upto 2*3 otherwise change subplot num in for loop----------EDIT to change loop\n",
    "stats_all=['HP','Attack','Total','Sp. Atk','Sp. Def','Speed']\n",
    "#select the stat for the x_axis--------EDIT to change loop\n",
    "x_stat='Defense'\n",
    "\n",
    "#########################################################################################\n",
    "#set figure size\n",
    "fig.set_size_inches(15,8)\n",
    "\n",
    "for count,y_stat in enumerate(stats_all):\n",
    "    #remember that for position we need three numbers, they need to be intergers \n",
    "    ax = fig.add_subplot(2, 3, int(count+1))\n",
    "    \n",
    "    #let's create a boolean command so only the first subplot had a legend for generation\n",
    "    if count>0:\n",
    "        #myplot - siple regression plot\n",
    "        ax=sns.scatterplot(x=x_stat, y=y_stat, data=pokemon,hue='Generation',legend=None)\n",
    "    else:\n",
    "        #myplot - siple regression plot\n",
    "        ax=sns.scatterplot(x=x_stat, y=y_stat, data=pokemon,hue='Generation')\n",
    "        \n",
    "    ax.set_xlabel(x_stat,fontsize=18)\n",
    "    ax.set_ylabel(y_stat,fontsize=18)\n",
    "    \n",
    "\n",
    "#show my figure\n",
    "plt.show()\n"
   ]
  },
  {
   "cell_type": "markdown",
   "id": "b18302c8",
   "metadata": {},
   "source": [
    "### Ok, made my plots, the labels are weird but we will fix them later, next let's find some stats"
   ]
  },
  {
   "cell_type": "markdown",
   "id": "2b96314a",
   "metadata": {},
   "source": [
    "## Step 2: Add stats - and text box"
   ]
  },
  {
   "cell_type": "code",
   "execution_count": null,
   "id": "5abd0463",
   "metadata": {},
   "outputs": [],
   "source": [
    "#set up working space we will add subplots with the for loop\n",
    "fig = plt.figure()\n",
    "fig.subplots_adjust(hspace=0.3, wspace=0.2)\n",
    "\n",
    "################################### EDIT THIS SECTION TO CHANGE SUBPLOTS ################\n",
    "#select stats for y_axis wanted, this will change the number of subplots- \n",
    "\n",
    "#only upto 2*3 otherwise change subplot num in for loop----------EDIT to change loop\n",
    "stats_all=['HP','Attack','Total','Sp. Atk','Sp. Def','Speed']\n",
    "#select the stat for the x_axis--------EDIT to change loop\n",
    "x_stat='Defense'\n",
    "\n",
    "#########################################################################################\n",
    "#set figure size\n",
    "fig.set_size_inches(15,8)\n",
    "\n",
    "for count,y_stat in enumerate(stats_all):\n",
    "    #remember that for position we need three numbers, they need to be intergers \n",
    "    ax = fig.add_subplot(2, 3, int(count+1))\n",
    "    \n",
    "    #let's create a boolean command so only the first subplot had a legend for generation\n",
    "    if count>0:\n",
    "        #myplot - siple regression plot\n",
    "        ax=sns.scatterplot(x=x_stat, y=y_stat, data=pokemon,hue='Generation',legend=None)\n",
    "    else:\n",
    "        #myplot - siple regression plot\n",
    "        ax=sns.scatterplot(x=x_stat, y=y_stat, data=pokemon,hue='Generation')\n",
    "        \n",
    "    ax.set_xlabel(x_stat,fontsize=18)\n",
    "    ax.set_ylabel(y_stat,fontsize=18)\n",
    "    \n",
    "    \n",
    "    #####get stats and add them here with a line ####\n",
    "    \n",
    "    #regplot doesn't print any stats so let's use scipy to get some stats and add it to our plots\n",
    "    ##get stats for a label\n",
    "    #we use [[]] to select columns from dataframes\n",
    "    temp=pokemon[[x_stat,y_stat]].dropna()\n",
    "    #same as pokemon.loc[,[x_stat,y_stat]].dropna()\n",
    "    results=stats.linregress(temp.iloc[:,0],temp.iloc[:,1])\n",
    "    #print (results)\n",
    "\n",
    "    #######this code makes the labels in the box\n",
    "    \n",
    "    props=dict(boxstyle='round',facecolor='white',alpha=.4)\n",
    "    #here is a useful example of .format where you can chane the number format\n",
    "    textstr='m={:.3f}\\nb={:.3f}\\n$r^2$={:.2f}\\np={:.3}'.format(results[0],results[1],results[2]**2,results[3]) #grabs the values from stats_out\n",
    "    # here the {} hold the formatting for each value that we will pass to format, the \\n means we want a new line\n",
    "    ax.text(.75,.05,textstr,transform=ax.transAxes,va='bottom',fontsize=11,bbox=props) #change the formatting of the box\n",
    "\n",
    "plt.show()"
   ]
  },
  {
   "cell_type": "markdown",
   "id": "f05b73e0",
   "metadata": {},
   "source": [
    "### Now, I have stats, but labels and the text with stats stills looks weird,let's add my regression line then fix the layout"
   ]
  },
  {
   "cell_type": "markdown",
   "id": "ea63cc0b",
   "metadata": {},
   "source": [
    "## Step 3: Add a line plot to the scatter plots"
   ]
  },
  {
   "cell_type": "code",
   "execution_count": null,
   "id": "be2f7cf5",
   "metadata": {},
   "outputs": [],
   "source": [
    "#set up working space we will add subplots with the for loop\n",
    "fig = plt.figure()\n",
    "fig.subplots_adjust(hspace=0.3, wspace=0.2)\n",
    "\n",
    "################################### EDIT THIS SECTION TO CHANGE SUBPLOTS ################\n",
    "#select stats for y_axis wanted, this will change the number of subplots- \n",
    "\n",
    "#only upto 2*3 otherwise change subplot num in for loop----------EDIT to change loop\n",
    "stats_all=['HP','Attack','Total','Sp. Atk','Sp. Def','Speed']\n",
    "#select the stat for the x_axis--------EDIT to change loop\n",
    "x_stat='Defense'\n",
    "\n",
    "#########################################################################################\n",
    "#set figure size\n",
    "fig.set_size_inches(15,8)\n",
    "\n",
    "for count,y_stat in enumerate(stats_all):\n",
    "    #remember that for position we need three numbers, they need to be intergers \n",
    "    ax = fig.add_subplot(2, 3, int(count+1))\n",
    "    \n",
    "    #let's create a boolean command so only the first subplot had a legend for generation\n",
    "    if count>0:\n",
    "        #myplot - siple regression plot\n",
    "        ax=sns.scatterplot(x=x_stat, y=y_stat, data=pokemon,hue='Generation',legend=None)\n",
    "    else:\n",
    "        #myplot - siple regression plot\n",
    "        ax=sns.scatterplot(x=x_stat, y=y_stat, data=pokemon,hue='Generation')\n",
    "        \n",
    "    ax.set_xlabel(x_stat,fontsize=18)\n",
    "    ax.set_ylabel(y_stat,fontsize=18)\n",
    "    \n",
    "    \n",
    "    #####get stats and add them here with a line ####\n",
    "    \n",
    "    #regplot doesn't print any stats so let's use scipy to get some stats and add it to our plots\n",
    "    ##get stats for a label\n",
    "    #we use [[]] to select columns from dataframes\n",
    "    temp=pokemon[[x_stat,y_stat]].dropna()\n",
    "    #same as pokemon.loc[,[x_stat,y_stat]].dropna()\n",
    "    results=stats.linregress(temp.iloc[:,0],temp.iloc[:,1])\n",
    "    #print (results)\n",
    "\n",
    "    ##this code makes the labels in the box\n",
    "    props=dict(boxstyle='round',facecolor='white',alpha=.4)\n",
    "    #here is a useful example of .format where you can chane the number format\n",
    "    textstr='m={:.3f}\\nb={:.3f}\\n$r^2$={:.2f}\\np={:.3}'.format(results[0],results[1],results[2]**2,results[3]) #grabs the values from stats_out\n",
    "    # here the {} hold the formatting for each value that we will pass to format, the \\n means we want a new line\n",
    "    ax.text(.75,.05,textstr,transform=ax.transAxes,va='bottom',fontsize=11,bbox=props) #change the formatting of the box\n",
    "\n",
    "    ##### add a line plot\n",
    "    \n",
    "    #this code here allows me to make a line manually\n",
    "    x1=np.array([temp[x_stat].min(),temp[x_stat].max()])\n",
    "    y1=results[0]*x1+results[1]\n",
    "    #this will plot my line on top of the line from regplot\n",
    "    ax.plot(x1,y1)\n",
    "\n",
    "#show my figure\n",
    "plt.show()\n",
    "\n",
    "#to save\n",
    "#plt.savefig(data_out_directory+\"pokemon_scatter.pdf\")"
   ]
  },
  {
   "cell_type": "markdown",
   "id": "2c6d56d4",
   "metadata": {},
   "source": [
    "### Ok added a line, let's add a title to each plot, the equation line under the title and fix the layout issue"
   ]
  },
  {
   "cell_type": "markdown",
   "id": "8b8e4b76",
   "metadata": {},
   "source": [
    "## Step 4: Add text, fix layout, save, and show"
   ]
  },
  {
   "cell_type": "code",
   "execution_count": null,
   "id": "31b1b82b",
   "metadata": {},
   "outputs": [],
   "source": [
    "#set up working space we will add subplots with the for loop\n",
    "fig = plt.figure()\n",
    "fig.subplots_adjust(hspace=0.3, wspace=0.2)\n",
    "\n",
    "################################### EDIT THIS SECTION TO CHANGE SUBPLOTS ################\n",
    "#select stats for y_axis wanted, this will change the number of subplots- \n",
    "\n",
    "#only upto 2*3 otherwise change subplot num in for loop----------EDIT to change loop\n",
    "stats_all=['HP','Attack','Total','Sp. Atk','Sp. Def','Speed']\n",
    "#select the stat for the x_axis--------EDIT to change loop\n",
    "x_stat='Defense'\n",
    "\n",
    "#########################################################################################\n",
    "#set figure size\n",
    "fig.set_size_inches(15,8)\n",
    "\n",
    "for count,y_stat in enumerate(stats_all):\n",
    "    #remember that for position we need three numbers, they need to be intergers \n",
    "    ax = fig.add_subplot(2, 3, int(count+1))\n",
    "    \n",
    "    #let's create a boolean command so only the first subplot had a legend for generation\n",
    "    if count>0:\n",
    "        #myplot - siple regression plot\n",
    "        ax=sns.scatterplot(x=x_stat, y=y_stat, data=pokemon,hue='Generation',legend=None)\n",
    "    else:\n",
    "        #myplot - siple regression plot\n",
    "        ax=sns.scatterplot(x=x_stat, y=y_stat, data=pokemon,hue='Generation')\n",
    "        \n",
    "    ax.set_xlabel(x_stat,fontsize=18)\n",
    "    ax.set_ylabel(y_stat,fontsize=18)\n",
    "    \n",
    "    \n",
    "    #####get stats and add them here with a line ####\n",
    "    \n",
    "    #regplot doesn't print any stats so let's use scipy to get some stats and add it to our plots\n",
    "    ##get stats for a label\n",
    "    #we use [[]] to select columns from dataframes\n",
    "    temp=pokemon[[x_stat,y_stat]].dropna()\n",
    "    #same as pokemon.loc[,[x_stat,y_stat]].dropna()\n",
    "    results=stats.linregress(temp.iloc[:,0],temp.iloc[:,1])\n",
    "    #print (results)\n",
    "\n",
    "    ##this code makes the labels in the box\n",
    "    props=dict(boxstyle='round',facecolor='white',alpha=.4)\n",
    "    #here is a useful example of .format where you can chane the number format\n",
    "    textstr='m={:.3f}\\nb={:.3f}\\n$r^2$={:.2f}\\np={:.3}'.format(results[0],results[1],results[2]**2,results[3]) #grabs the values from stats_out\n",
    "    # here the {} hold the formatting for each value that we will pass to format, the \\n means we want a new line\n",
    "    ax.text(.75,.05,textstr,transform=ax.transAxes,va='bottom',fontsize=11,bbox=props) #change the formatting of the box\n",
    "\n",
    "    ##### add a line plot\n",
    "    \n",
    "    #this code here allows me to make a line manually\n",
    "    x1=np.array([temp[x_stat].min(),temp[x_stat].max()])\n",
    "    y1=results[0]*x1+results[1]\n",
    "    #this will plot my line on top of the line from regplot\n",
    "    ax.plot(x1,y1)\n",
    "\n",
    "    ## add line equation as a title\n",
    "    m=results[0]\n",
    "    b=results[1]\n",
    "    ax.set_title('y={:.3f}x+{:.2f}'.format(m,b))\n",
    "\n",
    "#add a figure title\n",
    "plt.suptitle(f'Relationship: Stat vs {x_stat}',fontsize=18)\n",
    "\n",
    "#use tight_layout to fix the layout issues we are gaving \n",
    "plt.tight_layout()\n",
    "\n",
    "#to save\n",
    "plt.savefig(data_out_directory+\"pokemon_scatter.pdf\")\n",
    "\n",
    "#show my figure\n",
    "plt.show()"
   ]
  },
  {
   "cell_type": "markdown",
   "id": "72c11804",
   "metadata": {},
   "source": [
    "That looks really nice, but changing the arguments in the loop everytime I want a differnt plot will be annoying, let's automate with a function."
   ]
  },
  {
   "cell_type": "markdown",
   "id": "102529f0",
   "metadata": {},
   "source": [
    "## Step 5: Make a function and test"
   ]
  },
  {
   "cell_type": "code",
   "execution_count": null,
   "id": "c3937c4b",
   "metadata": {},
   "outputs": [],
   "source": [
    "def make_pokemon_plot(x_stat='Defense',stats_all=['HP','Attack','Total','Sp. Atk','Sp. Def','Speed']):\n",
    "    \n",
    "    \"\"\"This function will plot some stat vs all the other stat values, with a line, the equation to the line \n",
    "    and simple summary stats. The function can be mofidied to plot up to 6 subplots\"\"\"\n",
    "\n",
    "    #set up working space we will add subplots with the for loop\n",
    "    fig = plt.figure()\n",
    "    fig.subplots_adjust(hspace=0.3, wspace=0.2)\n",
    "\n",
    "    ################################### EDIT THIS SECTION TO CHANGE SUBPLOTS ################\n",
    "    #select stats for y_axis wanted, this will change the number of subplots- \n",
    "\n",
    "    ################ add these as arguments to function\n",
    "    #stats_all=['HP','Attack','Total','Sp. Atk','Sp. Def','Speed']\n",
    "    #x_stat='Defense'\n",
    "    #########################################################################################\n",
    "    \n",
    "    #set figure size\n",
    "    fig.set_size_inches(15,8)\n",
    "\n",
    "    for count,y_stat in enumerate(stats_all):\n",
    "        #remember that for position we need three numbers, they need to be intergers\n",
    "        \n",
    "        ######these lines will change based on our inputs and edit our layout ####\n",
    "        if len(stats_all)<=3:\n",
    "            ax = fig.add_subplot(1, len(stats_all), int(count+1))\n",
    "        elif len(stats_all)==4:\n",
    "            ax = fig.add_subplot(2, 2, int(count+1))\n",
    "        else:\n",
    "            ax = fig.add_subplot(2, 3, int(count+1))\n",
    "            \n",
    "        ###############\n",
    "\n",
    "        #let's create a boolean command so only the first subplot had a legend for generation\n",
    "        if count>0:\n",
    "            #myplot - siple regression plot\n",
    "            ax=sns.scatterplot(x=x_stat, y=y_stat, data=pokemon,hue='Generation',legend=None)\n",
    "        else:\n",
    "            #myplot - siple regression plot\n",
    "            ax=sns.scatterplot(x=x_stat, y=y_stat, data=pokemon,hue='Generation')\n",
    "\n",
    "        ax.set_xlabel(x_stat,fontsize=18)\n",
    "        ax.set_ylabel(y_stat,fontsize=18)\n",
    "\n",
    "\n",
    "        #####get stats and add them here with a line ####\n",
    "\n",
    "        #regplot doesn't print any stats so let's use scipy to get some stats and add it to our plots\n",
    "        ##get stats for a label\n",
    "        #we use [[]] to select columns from dataframes\n",
    "        temp=pokemon[[x_stat,y_stat]].dropna()\n",
    "        #same as pokemon.loc[,[x_stat,y_stat]].dropna()\n",
    "        results=stats.linregress(temp.iloc[:,0],temp.iloc[:,1])\n",
    "        #print (results)\n",
    "\n",
    "        ##this code makes the labels in the box\n",
    "        props=dict(boxstyle='round',facecolor='white',alpha=.4)\n",
    "        #here is a useful example of .format where you can chane the number format\n",
    "        textstr='m={:.3f}\\nb={:.3f}\\n$r^2$={:.2f}\\np={:.3}'.format(results[0],results[1],results[2]**2,results[3]) #grabs the values from stats_out\n",
    "        # here the {} hold the formatting for each value that we will pass to format, the \\n means we want a new line\n",
    "        ax.text(.75,.05,textstr,transform=ax.transAxes,va='bottom',fontsize=11,bbox=props) #change the formatting of the box\n",
    "\n",
    "        ##### add a line plot\n",
    "\n",
    "        #this code here allows me to make a line manually\n",
    "        x1=np.array([temp[x_stat].min(),temp[x_stat].max()])\n",
    "        y1=results[0]*x1+results[1]\n",
    "        #this will plot my line on top of the line from regplot\n",
    "        ax.plot(x1,y1)\n",
    "\n",
    "        ## add line equation as a title\n",
    "        m=results[0]\n",
    "        b=results[1]\n",
    "        ax.set_title('y={:.3f}x+{:.2f}'.format(m,b))\n",
    "\n",
    "    #add a figure title\n",
    "    plt.suptitle(f'Relationship: Stat vs {x_stat}',fontsize=18)\n",
    "\n",
    "    #use tight_layout to fix the layout issues we are gaving \n",
    "    plt.tight_layout()\n",
    "\n",
    "    #to save - \n",
    "    #the name will be in the fstring and will note the x_stats and how many other stats we called\n",
    "    plt.savefig(data_out_directory+f\"pokemon_scatter{x_stat}vsOthers{len(stats_all)}.pdf\")\n",
    "\n",
    "    #show my figure\n",
    "    plt.show()"
   ]
  },
  {
   "cell_type": "code",
   "execution_count": null,
   "id": "0f1166b7",
   "metadata": {},
   "outputs": [],
   "source": [
    "make_pokemon_plot(stats_all=['HP','Attack'],x_stat='Defense')"
   ]
  },
  {
   "cell_type": "code",
   "execution_count": null,
   "id": "8f2cec30",
   "metadata": {},
   "outputs": [],
   "source": [
    "make_pokemon_plot(stats_all=['HP','Total','Speed','Defense'],x_stat='Attack')"
   ]
  },
  {
   "cell_type": "code",
   "execution_count": null,
   "id": "0029fcea",
   "metadata": {},
   "outputs": [],
   "source": [
    "make_pokemon_plot(stats_all=['HP','Total','Speed','Defense','Attack'],x_stat='Speed')"
   ]
  },
  {
   "cell_type": "markdown",
   "id": "df160229",
   "metadata": {},
   "source": [
    "These plots are a combination of matplot and seaborn plus many of the skills we have reviewed in class. There is so mcuh more you can do!"
   ]
  },
  {
   "cell_type": "markdown",
   "id": "79b27664",
   "metadata": {},
   "source": [
    "## [SEABORN GALLERY](http://seaborn.pydata.org/examples/index.html)"
   ]
  },
  {
   "cell_type": "markdown",
   "id": "8118e097",
   "metadata": {},
   "source": [
    "# 18. Maps"
   ]
  },
  {
   "cell_type": "markdown",
   "id": "1e81a4fd",
   "metadata": {},
   "source": [
    "### [Cartopy](https://scitools.org.uk/cartopy/docs/latest/) Python library for maps.\n",
    "\n",
    "### [Good Cartopy Intro](https://rabernat.github.io/research_computing_2018/maps-with-cartopy.html)\n",
    "### [Good Tutorial](https://coderzcolumn.com/tutorials/data-science/cartopy-basic-maps-scatter-map-bubble-map-and-connection-map)"
   ]
  },
  {
   "cell_type": "code",
   "execution_count": null,
   "id": "a2a8f377",
   "metadata": {},
   "outputs": [],
   "source": [
    "#for colors\n",
    "from matplotlib import cm\n",
    "from matplotlib.colors import ListedColormap, LinearSegmentedColormap"
   ]
  },
  {
   "cell_type": "code",
   "execution_count": null,
   "id": "5f60fe21",
   "metadata": {},
   "outputs": [],
   "source": [
    "import cartopy\n",
    "import cartopy.crs as crs\n",
    "import cartopy.feature as cfeature\n",
    "\n",
    "print (cartopy.__version__)"
   ]
  },
  {
   "cell_type": "code",
   "execution_count": null,
   "id": "57ee7467",
   "metadata": {},
   "outputs": [],
   "source": [
    "#create a new figure and add on via ax\n",
    "plt.figure(figsize=(8,6))\n",
    "\n",
    "#we will add a projection of the map to ax then add to it\n",
    "ax = plt.axes(projection=crs.PlateCarree())\n",
    "\n",
    "plt.show()"
   ]
  },
  {
   "cell_type": "markdown",
   "id": "25fd66e1",
   "metadata": {},
   "source": [
    "## [List of Cartopy Projections](https://scitools.org.uk/cartopy/docs/v0.15/crs/projections.html)"
   ]
  },
  {
   "cell_type": "code",
   "execution_count": null,
   "id": "b49ed41a",
   "metadata": {},
   "outputs": [],
   "source": [
    "#the size of our figure frame\n",
    "plt.figure(figsize=(8,6))\n",
    "\n",
    "#flat projection\n",
    "ax = plt.axes(projection=crs.PlateCarree())\n",
    "\n",
    "#add coastline\n",
    "ax.coastlines()\n",
    "#add countries\n",
    "ax.add_feature(cfeature.BORDERS, linestyle=\"-\")\n",
    "#add lakes\n",
    "ax.add_feature(cfeature.LAKES, color=\"blue\")\n",
    "\n",
    "plt.show()"
   ]
  },
  {
   "cell_type": "code",
   "execution_count": null,
   "id": "d1c84b3e",
   "metadata": {},
   "outputs": [],
   "source": [
    "plt.figure(figsize=(8,6))\n",
    "\n",
    "#more realistic spherical projection\n",
    "ax = plt.axes(projection=crs.Orthographic())\n",
    "\n",
    "#add coastline\n",
    "ax.coastlines()\n",
    "#add ocean\n",
    "ax.add_feature(cartopy.feature.OCEAN,color='blue')\n",
    "\n",
    "#add countries\n",
    "ax.add_feature(cfeature.BORDERS,color='white')\n",
    "#add land\n",
    "ax.add_feature(cartopy.feature.LAND)\n",
    "\n",
    "\n",
    "plt.show()"
   ]
  },
  {
   "cell_type": "markdown",
   "id": "ae9cf555",
   "metadata": {},
   "source": [
    "## Let's look at the places were Maria has sampled on the Great Lakes"
   ]
  },
  {
   "cell_type": "code",
   "execution_count": null,
   "id": "b027752d",
   "metadata": {},
   "outputs": [],
   "source": [
    "gl_stations=pd.read_csv(datadirectory+'gl_stations.csv')\n",
    "gl_stations"
   ]
  },
  {
   "cell_type": "code",
   "execution_count": null,
   "id": "7c9ca19a",
   "metadata": {},
   "outputs": [],
   "source": [
    "#select the center points based on the mean of the points I do have\n",
    "central_lat = gl_stations['LATITUDE'].mean()\n",
    "central_lon = gl_stations['LONGITUDE'].mean()\n",
    "\n",
    "#extent is the [west_point,east_point,south_point,north_point]\n",
    "extent = [gl_stations['LONGITUDE'].min()-2, gl_stations['LONGITUDE'].max()+2,\n",
    "          gl_stations['LATITUDE'].min()-2, gl_stations['LATITUDE'].max()+2]\n",
    "\n",
    "#create a figure\n",
    "plt.figure(figsize=(12, 6))\n",
    "ax = plt.axes(projection=crs.Orthographic(central_lon, central_lat))\n",
    "ax.set_extent(extent)\n",
    "\n",
    "#add features\n",
    "ax.add_feature(cartopy.feature.LAKES,edgecolor='black')\n",
    "ax.add_feature(cartopy.feature.RIVERS)\n",
    "\n",
    "#setting labels to true will give me labels on x and y axis\n",
    "ax.gridlines(draw_labels=True)\n",
    "\n",
    "##add multiple points -- to add multiple points we use scatteplot but we must pass crs.PlateCarree() in transform,\n",
    "#maybe there are other ways but this is teh only way it works for me\n",
    "ax.scatter(x=gl_stations.LONGITUDE, y=gl_stations.LATITUDE,color=\"red\",\n",
    "            s=30,alpha=0.8,transform=crs.PlateCarree(),zorder=2)\n",
    "\n",
    "##### THE Z-ORDER is the order in which layers are shown where 0 is first and the higher is on top, I called zorder to 2 so I could see my points \n",
    "\n",
    "#add labels\n",
    "ax.set_title('LAURENTIAN GREAT LAKES: EPA SAMPLING STATIONS')\n",
    "\n",
    "#I save most of my figures as .pdf until I'm ready to make manuscript figures\n",
    "#you can save your plots whiever way you prefer, same commands as other plots \n",
    "plt.savefig(data_out_directory+'gl_map.pdf')"
   ]
  },
  {
   "cell_type": "markdown",
   "id": "2f65f137",
   "metadata": {},
   "source": [
    "# 18. Skill Check \n",
    "### Make a map with three cities of your choice. Fill in the ? in the code below."
   ]
  },
  {
   "cell_type": "code",
   "execution_count": null,
   "id": "fd204018",
   "metadata": {},
   "outputs": [],
   "source": [
    "##add your points here - the ? should be lists- \n",
    "#I want three cities you choose, and use google maps to get lat/lon\n",
    "my_df=pd.DataFrame({'City':[?],\n",
    "                   'Lat':[?],\n",
    "                   'Lon':[?]})\n",
    "\n",
    "\n",
    "#initiate my plot \n",
    "plt.figure(figsize=(12, 6))\n",
    "\n",
    "#select a projection- this will select the best map area since we are not selecting a center and extent\n",
    "ax = plt.axes(projection=crs.PlateCarree())\n",
    "#using this option will allow us to see the whole Earth instead of the default slice that is chosen above\n",
    "ax.set_global()\n",
    "\n",
    "####add more to the map- add coastline, the ocean, land \n",
    "?\n",
    "?\n",
    "?\n",
    "###add a title\n",
    "?\n",
    "\n",
    "####change the view of your points\n",
    "ax.scatter(x=my_df.?, y=my_df.?,color=?,s=60,marker='x',transform=crs.PlateCarree())\n",
    "\n",
    "#save your map-uncomment line and change file name\n",
    "plt.savefig(data_out_directory+'my_map.pdf')\n",
    "\n",
    "#then show, if you run show before save you will not save anything \n",
    "plt.show()"
   ]
  },
  {
   "cell_type": "markdown",
   "id": "8f025161",
   "metadata": {},
   "source": [
    "# 17.7 Gif\n",
    "A gif is a movie, and for movies we need frames that move as a specific speed. We can thus make gifs by combining many frames that we make."
   ]
  },
  {
   "cell_type": "code",
   "execution_count": null,
   "id": "45db4035",
   "metadata": {},
   "outputs": [],
   "source": [
    "temp_data"
   ]
  },
  {
   "cell_type": "markdown",
   "id": "d21f6ecc",
   "metadata": {},
   "source": [
    "sns.boxplot\n",
    "https://seaborn.pydata.org/generated/seaborn.boxplot.html"
   ]
  },
  {
   "cell_type": "code",
   "execution_count": null,
   "id": "073a973b",
   "metadata": {},
   "outputs": [],
   "source": [
    "def get_colors(lake,year,val):\n",
    "    \"\"\"This function will grab all the temperature data for a given year and lake.\n",
    "    Then with the values make a list of colors from the max to min temperature.\n",
    "    This will return a color for a given temperature that falls within the range of the temperature for that year.\"\"\"\n",
    "    \n",
    "    #select data\n",
    "    summary=temp_data.loc[((temp_data['Lake']==lake) & (temp_data['Year']==year)),'Temp']\n",
    "    \n",
    "    #value-->color\n",
    "    #to normalize our values so the colors are in scale from min to max of a given year\n",
    "    norm = mpl.colors.Normalize(vmin=summary.min(), vmax=summary.max())\n",
    "    ##color_list can be anything matplot recognizes, I want reds\n",
    "    color_list=cm.get_cmap('Reds', 20)\n",
    "    \n",
    "    #grab a value from color list - that will be the normalized value from norm \n",
    "    lake_val=color_list(norm(val))\n",
    "    \n",
    "    #resturn our normalized color for the temperature in a given lake and year\n",
    "    return lake_val\n",
    "\n",
    "get_colors('SU',2015,19)"
   ]
  },
  {
   "cell_type": "code",
   "execution_count": null,
   "id": "3fa72a1b",
   "metadata": {},
   "outputs": [],
   "source": [
    "def get_lake_plot(lake,year,temp=0,frame=1):\n",
    "    \"\"\"This function will return an image of the lake selcted.\n",
    "    Selecet stations true to display stations or false to not.\"\"\"\n",
    "    \n",
    "    #to center the map\n",
    "    central_lat = 44.54999217647059\n",
    "    central_lon = -83.57815488235293\n",
    "    \n",
    "    if lake == 'SU':\n",
    "        extent= [-92.1518, -84.5, 46.14, 49.105667]\n",
    "        lake_name='Superior'\n",
    "    elif lake == 'HU':\n",
    "        extent = [-84.75, -79.833833, 43.040, 46.605667]\n",
    "        lake_name='Huron'\n",
    "    elif lake == 'MI':\n",
    "        extent = [-88, -84.8, 41.5, 46.105667]\n",
    "        lake_name='Michigan'\n",
    "    elif lake =='ON':\n",
    "        extent=[-79.8, -75.833833, 43.2, 44.5]\n",
    "        lake_name='Ontario'\n",
    "    elif lake == 'ER':\n",
    "        extent=[-83.5, -78.9, 41.35, 42.9]\n",
    "        lake_name='Erie'\n",
    "    else:\n",
    "        print('check lake input')\n",
    "        \n",
    "    \n",
    "    #plot the map\n",
    "    plt.figure(figsize=(10, 4))\n",
    "    ax = plt.axes(projection=crs.Orthographic(central_lon, central_lat))\n",
    "    ax.set_extent(extent)\n",
    "    \n",
    "    #colors for each temp \n",
    "    #goes through the function we made and grabs a color for this specic value\n",
    "    color=get_colors(lake,year,temp)\n",
    "    ax.add_feature(cartopy.feature.LAKES,edgecolor='black',facecolor=color)\n",
    "\n",
    "    #add labels - change size and font type here\n",
    "    ax.set_title(f'EPA Sampling Stations: {lake_name} year {year} day{frame}',fontweight=\"bold\",size=14)\n",
    "    \n",
    "    #to save each plot \n",
    "    plt.savefig(data_out_directory+f\"/for_gif/laketemp_{lake}{frame}.jpg\",dpi=600)\n",
    "    \n",
    "    plt.show()\n",
    "    \n",
    "    plt.close()\n",
    "\n",
    "get_lake_plot('SU',2015,temp=4,frame=1)"
   ]
  },
  {
   "cell_type": "code",
   "execution_count": null,
   "id": "362c6330",
   "metadata": {},
   "outputs": [],
   "source": [
    "# a cooloer temp in 2015\n",
    "get_lake_plot('SU',2015,temp=4,frame=1)\n",
    "# a warmer temp in 2015\n",
    "get_lake_plot('SU',2015,temp=19,frame=1)"
   ]
  },
  {
   "cell_type": "markdown",
   "id": "685778b8",
   "metadata": {},
   "source": [
    "# Go back and hide plt.show() to save memory"
   ]
  },
  {
   "cell_type": "code",
   "execution_count": null,
   "id": "bdb66b1b",
   "metadata": {},
   "outputs": [],
   "source": [
    "def make_frames(lake,year):\n",
    "    \"\"\"This function will make frames for a selected lake in a given year. \n",
    "    But only for days 100-200 of the year.\"\"\"\n",
    "    \n",
    "    years=[2015,2016,2017,2018,2019,2020]\n",
    "    \n",
    "    if year not in years :\n",
    "        return \"choose a different year\"\n",
    "    else:\n",
    "        \n",
    "        #select the lake we want- and return temperature for this selection\n",
    "        lake_wanted=temp_data.loc[((temp_data['Lake']==lake) & (temp_data['Year']==year)),'Temp']\n",
    "        print('Running.....')\n",
    "        \n",
    "        #lake wanted is a column with temperature values - 365 values, one for each day of the year\n",
    "        for k,i in enumerate(lake_wanted):\n",
    "            #let's print the interesting days only- so that's 100-200\n",
    "            if (k>100) and (k<200): \n",
    "                #run the function to make our map and pass lake, year, \n",
    "                #the temp from our temp list, and k here is the day of the year \n",
    "                get_lake_plot(lake,year,i,k)\n",
    "                print(f'frame {k} made')\n",
    "        \n",
    "        #this statement will print when we finish our function\n",
    "        return 'frames produced'\n",
    "\n",
    "make_frames('MI',2015)"
   ]
  },
  {
   "cell_type": "markdown",
   "id": "5e0f7e7f",
   "metadata": {},
   "source": [
    "# Making our movie\n",
    "\n",
    "#### We can use [glob](https://docs.python.org/3/library/glob.html) to read in all the frames we made\n",
    "\n",
    "#### We can use [PIL](https://pillow.readthedocs.io/en/stable/handbook/image-file-formats.html#gif) to combine into a gif"
   ]
  },
  {
   "cell_type": "code",
   "execution_count": null,
   "id": "fae5d052",
   "metadata": {},
   "outputs": [],
   "source": [
    "#glob allows us to read multiple files with the same extension quickly\n",
    "import glob\n",
    "#PIL allows us to make a movie\n",
    "from PIL import Image"
   ]
  },
  {
   "cell_type": "code",
   "execution_count": null,
   "id": "ee3db958",
   "metadata": {},
   "outputs": [],
   "source": [
    "#set the lake and year you already made frames for - you can also ignore the next two lines and manually change\n",
    "#lines 7 and 8\n",
    "lake='MI'\n",
    "year=2015\n",
    "\n",
    "# filepaths\n",
    "#where the frames are\n",
    "fp_in = data_out_directory+f\"/for_gif/laketemp_{lake}*.jpg\"\n",
    "#where the movie will be saved\n",
    "fp_out = data_out_directory+f\"laketemp_{lake}{year}.gif\"\n",
    "\n",
    "#open all of our files using glob\n",
    "img, *imgs = [Image.open(f) for f in sorted(glob.glob(fp_in))]\n",
    "#save the files as an img with the parameters specified below, you can play around with the settings \n",
    "img.save(fp=fp_out, format='GIF', append_images=imgs,\n",
    "         save_all=True, duration=360, loop=2)\n",
    "\n",
    "print(\" Your movie is made, check your output folder!!\")"
   ]
  },
  {
   "cell_type": "markdown",
   "id": "1dca8c69",
   "metadata": {},
   "source": [
    "This quick code was to show you how to make gifs from maps we made but the mechanics for any movie are the same:\n",
    "    \n",
    "1. Make multiple iterations of your figure and save each one - this becomes your movie frames\n",
    "2. Pass all the frames into img with the help of glob and you are done.\n",
    "3. Open your movie and enjoy. "
   ]
  },
  {
   "cell_type": "markdown",
   "id": "95ff34bb",
   "metadata": {},
   "source": [
    "# All the code in one cell - Careful when running - takes time"
   ]
  },
  {
   "cell_type": "code",
   "execution_count": null,
   "id": "501ad44b",
   "metadata": {},
   "outputs": [],
   "source": [
    "lake='MI'\n",
    "year=2015\n",
    "\n",
    "#make frames - this one line of code has three functions associated with it!!!!\n",
    "make_frames(lake,year)\n",
    "\n",
    "# filepaths\n",
    "#where the frames are\n",
    "fp_in = data_out_directory+f\"/for_gif/laketemp_{lake}*.jpg\"\n",
    "#where the movie will be saved\n",
    "fp_out = data_out_directory+f\"laketemp_{lake}{year}.gif\"\n",
    "\n",
    "#open all of our files using glob\n",
    "img, *imgs = [Image.open(f) for f in sorted(glob.glob(fp_in))]\n",
    "#save the files as an img with the parameters specified below, you can play around with the settings \n",
    "img.save(fp=fp_out, format='GIF', append_images=imgs,\n",
    "         save_all=True, duration=360, loop=2)\n"
   ]
  },
  {
   "cell_type": "markdown",
   "id": "fb3f3e7b",
   "metadata": {},
   "source": [
    "# Summary\n",
    "Today I showed you the following:\n",
    "\n",
    "1. Explore data with the seaborn plotting library\n",
    "2. Make figures with AxesSubplot and FacetGrid\n",
    "3. Using for loops for complicated subplots \n",
    "4. Maps\n",
    "5. Gifs"
   ]
  }
 ],
 "metadata": {
  "kernelspec": {
   "display_name": "Python [conda env:root] *",
   "language": "python",
   "name": "conda-root-py"
  },
  "language_info": {
   "codemirror_mode": {
    "name": "ipython",
    "version": 3
   },
   "file_extension": ".py",
   "mimetype": "text/x-python",
   "name": "python",
   "nbconvert_exporter": "python",
   "pygments_lexer": "ipython3",
   "version": "3.8.11"
  }
 },
 "nbformat": 4,
 "nbformat_minor": 5
}
