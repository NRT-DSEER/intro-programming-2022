{
 "cells": [
  {
   "cell_type": "markdown",
   "id": "described-march",
   "metadata": {},
   "source": [
    "# Welcome to Intro to Scientific Programming!\n",
    "\n",
    "Run the below cells to make sure your setup worked. You can do this by clicking on the cell and then pressing `Shift+Enter`. If you don't get any errors, that means your setup worked. If you do, post in the slack and go to office hours.\n",
    "\n",
    "These libraries are installed automatically when you install Anaconda and the .csv file came from the github repository."
   ]
  },
  {
   "cell_type": "code",
   "execution_count": 4,
   "id": "fresh-beads",
   "metadata": {},
   "outputs": [],
   "source": [
    "import numpy as np\n",
    "import matplotlib.pyplot as plt\n",
    "import pandas as pd"
   ]
  },
  {
   "cell_type": "code",
   "execution_count": 5,
   "id": "narrow-oxide",
   "metadata": {},
   "outputs": [],
   "source": [
    "data = np.loadtxt('../data/star_formation_rate_MD.csv', delimiter=',')"
   ]
  },
  {
   "cell_type": "code",
   "execution_count": 6,
   "id": "56e55ec5",
   "metadata": {},
   "outputs": [
    {
     "data": {
      "text/plain": [
       "array([[ 1.018, -1.958],\n",
       "       [ 1.055, -1.825],\n",
       "       [ 1.026, -1.72 ],\n",
       "       [ 1.124, -1.751],\n",
       "       [ 1.151, -1.634],\n",
       "       [ 1.262, -1.692],\n",
       "       [ 1.308, -1.554],\n",
       "       [ 1.292, -1.507],\n",
       "       [ 1.377, -1.416],\n",
       "       [ 1.485, -1.437],\n",
       "       [ 1.533, -1.315],\n",
       "       [ 1.56 , -1.215],\n",
       "       [ 1.693, -1.241],\n",
       "       [ 1.693, -1.198],\n",
       "       [ 1.699, -1.135],\n",
       "       [ 1.877, -1.108],\n",
       "       [ 2.008, -1.229],\n",
       "       [ 1.899, -0.933],\n",
       "       [ 2.14 , -1.022],\n",
       "       [ 2.174, -0.954],\n",
       "       [ 2.098, -0.938],\n",
       "       [ 2.106, -0.801],\n",
       "       [ 2.131, -0.837],\n",
       "       [ 2.449, -0.948],\n",
       "       [ 2.589, -0.931],\n",
       "       [ 2.459, -0.826],\n",
       "       [ 2.77 , -0.741],\n",
       "       [ 2.837, -0.857],\n",
       "       [ 3.071, -0.793],\n",
       "       [ 3.121, -0.735],\n",
       "       [ 3.299, -0.74 ],\n",
       "       [ 3.234, -0.851],\n",
       "       [ 3.247, -0.893],\n",
       "       [ 3.761, -0.866],\n",
       "       [ 4.024, -0.966],\n",
       "       [ 4.008, -1.029],\n",
       "       [ 4.624, -1.345],\n",
       "       [ 4.831, -1.271],\n",
       "       [ 5.006, -1.678],\n",
       "       [ 6.01 , -1.396],\n",
       "       [ 6.879, -1.634],\n",
       "       [ 8.   , -1.781],\n",
       "       [ 8.032, -1.992],\n",
       "       [ 8.941, -2.065],\n",
       "       [ 9.012, -2.187],\n",
       "       [ 2.518, -0.889]])"
      ]
     },
     "execution_count": 6,
     "metadata": {},
     "output_type": "execute_result"
    }
   ],
   "source": [
    "data"
   ]
  },
  {
   "cell_type": "markdown",
   "id": "3ef54d6d",
   "metadata": {},
   "source": [
    "## Practice Making a Code Cell"
   ]
  },
  {
   "cell_type": "code",
   "execution_count": null,
   "id": "f0fa8a1f",
   "metadata": {},
   "outputs": [],
   "source": []
  },
  {
   "cell_type": "markdown",
   "id": "b3247b69",
   "metadata": {},
   "source": [
    "## Practice making a Markdown Cell"
   ]
  },
  {
   "cell_type": "markdown",
   "id": "6f8f9bc7",
   "metadata": {},
   "source": [
    "# now I'm markdown "
   ]
  },
  {
   "cell_type": "markdown",
   "id": "d54ee9c0",
   "metadata": {},
   "source": [
    "## Practice Deleting a Cell"
   ]
  }
 ],
 "metadata": {
  "kernelspec": {
   "display_name": "Python 3",
   "language": "python",
   "name": "python3"
  },
  "language_info": {
   "codemirror_mode": {
    "name": "ipython",
    "version": 3
   },
   "file_extension": ".py",
   "mimetype": "text/x-python",
   "name": "python",
   "nbconvert_exporter": "python",
   "pygments_lexer": "ipython3",
   "version": "3.7.0"
  }
 },
 "nbformat": 4,
 "nbformat_minor": 5
}
