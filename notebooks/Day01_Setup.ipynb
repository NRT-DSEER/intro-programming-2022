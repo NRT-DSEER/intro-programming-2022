{
 "cells": [
  {
   "cell_type": "markdown",
   "id": "described-march",
   "metadata": {},
   "source": [
    "# Welcome to Intro to Scientific Programming!\n",
    "\n",
    "Run the below cells to make sure your setup worked. You can do this by clicking on the cell and then pressing `Shift+Enter`. If you don't get any errors, that means your setup worked. If you do, post in the slack and go to office hours.\n",
    "\n",
    "These libraries are installed automatically when you install Anaconda and the .csv file came from the github repository."
   ]
  },
  {
   "cell_type": "code",
   "execution_count": 1,
   "id": "fresh-beads",
   "metadata": {},
   "outputs": [],
   "source": [
    "import numpy as np\n",
    "import matplotlib.pyplot as plt\n",
    "import pandas as pd"
   ]
  },
  {
   "cell_type": "code",
   "execution_count": 2,
   "id": "narrow-oxide",
   "metadata": {},
   "outputs": [],
   "source": [
    "data = np.loadtxt('../data/star_formation_rate_MD.csv', delimiter=',')"
   ]
  },
  {
   "cell_type": "markdown",
   "id": "3ef54d6d",
   "metadata": {},
   "source": [
    "## Practice Making a Code Cell"
   ]
  },
  {
   "cell_type": "markdown",
   "id": "b3247b69",
   "metadata": {},
   "source": [
    "## Practice making a Markdown Cell"
   ]
  },
  {
   "cell_type": "markdown",
   "id": "d54ee9c0",
   "metadata": {},
   "source": [
    "## Practice Deleting a Cell"
   ]
  },
  {
   "cell_type": "code",
   "execution_count": null,
   "id": "c7b6793f",
   "metadata": {},
   "outputs": [],
   "source": [
    "## delete me!"
   ]
  }
 ],
 "metadata": {
  "kernelspec": {
   "display_name": "Python 3 (ipykernel)",
   "language": "python",
   "name": "python3"
  },
  "language_info": {
   "codemirror_mode": {
    "name": "ipython",
    "version": 3
   },
   "file_extension": ".py",
   "mimetype": "text/x-python",
   "name": "python",
   "nbconvert_exporter": "python",
   "pygments_lexer": "ipython3",
   "version": "3.7.1"
  }
 },
 "nbformat": 4,
 "nbformat_minor": 5
}
