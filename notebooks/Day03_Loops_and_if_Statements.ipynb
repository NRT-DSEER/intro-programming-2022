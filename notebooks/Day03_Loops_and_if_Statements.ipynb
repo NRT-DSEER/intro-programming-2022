{
 "cells": [
  {
   "cell_type": "markdown",
   "metadata": {
    "id": "yw1fj5jsNeHV"
   },
   "source": [
    "# Day 3: Introduction to loops and if statements in Python\n",
    "\n",
    "Yesterday, we went over the important basics for coding languages, and we will be building off of them today.\n",
    "\n",
    "Things we learned yesterday\n",
    "* How to define a variable\n",
    "* Boolean values that return a true or false\n",
    "* Indexing a list, changing lists\n",
    "* Using keys to call information from a dictionary\n",
    "* What built in functions are\n",
    "\n",
    "Today, we will be going over these tools that make automating your research easier. These tools are similar across coding languages as well. The first thing we will go through is `for loops`, which allow you to perform a process many times very quickly. \n",
    "The next thing we will be going through is `if statements`. These allow you to check conditions of interest, and then perform actions depending on whether they are true or false.\n",
    "\n",
    "Goals for the day\n",
    "* Go over Jupyter notebooks a little more in depth\n",
    "* Learn more about floating points\n",
    "* Go over an introduction to for loops\n",
    "* Begin using if/else statements\n",
    "* Learn elif statements\n",
    "* Nesting if statements in a for loop"
   ]
  },
  {
   "cell_type": "markdown",
   "metadata": {
    "id": "niiH7QBS_yzk"
   },
   "source": [
    "# Mini-lesson: Floating Point"
   ]
  },
  {
   "cell_type": "markdown",
   "metadata": {
    "id": "_49_zLyRAU5s"
   },
   "source": [
    "## 0 Different \"types\" of numbers\n",
    "\n",
    "There are two main python types for numbers: `int` and `float`\n",
    "\n",
    "Type `int` are integers, such as 0, 1, 2, ..., 10, ...\n",
    "\n",
    "Type `float` are numbers in their decimal form, such as 0.1, 1.1, 55.000000001, ...\n",
    "\n",
    "`int` can be cast in `float` and vice versa.\n",
    "\n",
    "Examples of both types are below:"
   ]
  },
  {
   "cell_type": "code",
   "execution_count": 1,
   "metadata": {
    "colab": {
     "base_uri": "https://localhost:8080/"
    },
    "executionInfo": {
     "elapsed": 121,
     "status": "ok",
     "timestamp": 1625081365500,
     "user": {
      "displayName": "Jess Senger",
      "photoUrl": "",
      "userId": "08376289370634799181"
     },
     "user_tz": 300
    },
    "id": "Svl-S5g2APcC",
    "outputId": "ddc359ab-30d0-4f48-f872-2967257d9329"
   },
   "outputs": [
    {
     "name": "stdout",
     "output_type": "stream",
     "text": [
      "<class 'int'>\n",
      "x = 1\n"
     ]
    }
   ],
   "source": [
    "x = 1\n",
    "\n",
    "# As a sanity check, we print the type for the variable x:\n",
    "print(type(x))\n",
    "print(\"x = {}\".format(x))"
   ]
  },
  {
   "cell_type": "code",
   "execution_count": 2,
   "metadata": {
    "colab": {
     "base_uri": "https://localhost:8080/"
    },
    "executionInfo": {
     "elapsed": 121,
     "status": "ok",
     "timestamp": 1625081810124,
     "user": {
      "displayName": "Jess Senger",
      "photoUrl": "",
      "userId": "08376289370634799181"
     },
     "user_tz": 300
    },
    "id": "CGNlbzDjCnGJ",
    "outputId": "db51a0c9-f845-4473-af13-5176d63142cb"
   },
   "outputs": [
    {
     "name": "stdout",
     "output_type": "stream",
     "text": [
      "<class 'float'>\n",
      "x = 1.0\n"
     ]
    }
   ],
   "source": [
    "# We cast the integer stored in x to a float. \n",
    "x = float(x) # After running this line, the variable x now represents a floating point value and not an integer.\n",
    "\n",
    "# Sanity check:\n",
    "print(type(x))\n",
    "print(\"x = {}\".format(x))"
   ]
  },
  {
   "cell_type": "code",
   "execution_count": 3,
   "metadata": {
    "colab": {
     "base_uri": "https://localhost:8080/"
    },
    "executionInfo": {
     "elapsed": 131,
     "status": "ok",
     "timestamp": 1625081815194,
     "user": {
      "displayName": "Jess Senger",
      "photoUrl": "",
      "userId": "08376289370634799181"
     },
     "user_tz": 300
    },
    "id": "2Y1y8RG4FST4",
    "outputId": "2c755072-0bbc-4ef5-e59f-a429388c5185"
   },
   "outputs": [
    {
     "name": "stdout",
     "output_type": "stream",
     "text": [
      "3\n",
      "3\n",
      "3\n"
     ]
    }
   ],
   "source": [
    "# When casting from float to int, the number gets truncated such that the decimal part is removed\n",
    "print(int(3.2))\n",
    "print(int(3.5))\n",
    "print(int(3.8))"
   ]
  },
  {
   "cell_type": "markdown",
   "metadata": {
    "id": "dzhnv4lABmml"
   },
   "source": [
    "## 0.1 Floating point issues and limitations\n",
    "\n",
    "There are times when the result of a calculation with floating points seems to defy what we've traditionally learned...\n",
    "\n",
    "For example, what is the sum of 1.1 and 2.2?\n",
    "\n",
    "\n",
    "Let's see what Python thinks..."
   ]
  },
  {
   "cell_type": "code",
   "execution_count": 4,
   "metadata": {
    "colab": {
     "base_uri": "https://localhost:8080/"
    },
    "executionInfo": {
     "elapsed": 124,
     "status": "ok",
     "timestamp": 1625081819568,
     "user": {
      "displayName": "Jess Senger",
      "photoUrl": "",
      "userId": "08376289370634799181"
     },
     "user_tz": 300
    },
    "id": "J0F1wO8iEbjS",
    "outputId": "835c9458-252b-40f0-eb50-74941652a2e8"
   },
   "outputs": [
    {
     "name": "stdout",
     "output_type": "stream",
     "text": [
      "Does 1.1 + 2.2 = 3.3?\n",
      "False\n"
     ]
    }
   ],
   "source": [
    "print(\"Does 1.1 + 2.2 = 3.3?\")\n",
    "print(1.1 + 2.2 == 3.3)"
   ]
  },
  {
   "cell_type": "code",
   "execution_count": 5,
   "metadata": {
    "colab": {
     "base_uri": "https://localhost:8080/"
    },
    "executionInfo": {
     "elapsed": 121,
     "status": "ok",
     "timestamp": 1625081822152,
     "user": {
      "displayName": "Jess Senger",
      "photoUrl": "",
      "userId": "08376289370634799181"
     },
     "user_tz": 300
    },
    "id": "1rgMdQ06UOTg",
    "outputId": "f7004deb-fdc6-4af9-dd53-dcb7214bdf30"
   },
   "outputs": [
    {
     "name": "stdout",
     "output_type": "stream",
     "text": [
      "3.3000000000000003\n"
     ]
    }
   ],
   "source": [
    "print(1.1+2.2)"
   ]
  },
  {
   "cell_type": "markdown",
   "metadata": {
    "id": "-ZfuzDmyIUeP"
   },
   "source": [
    "The above is a very classic floating point error, similar to the one we saw yesterday. \n",
    "\n",
    "What happened?\n",
    "\n",
    "Floating-point numbers are implemented in computer hardware as binary fractions. Thus, most decimal fractions cannot be accurately stored.\n",
    "\n",
    "\n",
    "\n",
    "As a default, python uses double-precision floating point. This means that 53 bits are used, so the otherwise infinite representation is rounded to 53 significant bits.\n",
    "\n",
    "\n",
    "In your computer, `0.1` is stored as the following rounded **binary value**:\n",
    "`0.0001100110011001100110011001100110011001100110011001101`. \n",
    "\n",
    "This binary value is then converted to the following **decimal value** when printed to the console: `0.1000000000000000055511151231257827021181583404541015625`, which is slightly greater than 0.1. \n"
   ]
  },
  {
   "cell_type": "code",
   "execution_count": 6,
   "metadata": {
    "colab": {
     "base_uri": "https://localhost:8080/"
    },
    "executionInfo": {
     "elapsed": 111,
     "status": "ok",
     "timestamp": 1625081852867,
     "user": {
      "displayName": "Jess Senger",
      "photoUrl": "",
      "userId": "08376289370634799181"
     },
     "user_tz": 300
    },
    "id": "mJQtpnaZORed",
    "outputId": "2122d6c5-cf7b-4193-fac8-5d6499c9684b"
   },
   "outputs": [
    {
     "name": "stdout",
     "output_type": "stream",
     "text": [
      "0.1 to the 60th decimal place: 0.100000000000000005551115123125782702118158340454101562500000\n",
      "0.1 to the 19th decimal place: 0.1000000000000000056\n",
      "0.1 to the 17th decimal place: 0.10000000000000001\n"
     ]
    }
   ],
   "source": [
    "print(\"0.1 to the 60th decimal place: {:.60f}\".format(0.1))\n",
    "print(\"0.1 to the 19th decimal place: {:.19f}\".format(0.1))\n",
    "print(\"0.1 to the 17th decimal place: {:.17f}\".format(0.1))\n"
   ]
  },
  {
   "cell_type": "markdown",
   "metadata": {
    "id": "ceRYbBjiXn0Q"
   },
   "source": [
    "The following is an example from yesterday:"
   ]
  },
  {
   "cell_type": "code",
   "execution_count": 7,
   "metadata": {
    "colab": {
     "base_uri": "https://localhost:8080/"
    },
    "executionInfo": {
     "elapsed": 112,
     "status": "ok",
     "timestamp": 1625081865012,
     "user": {
      "displayName": "Jess Senger",
      "photoUrl": "",
      "userId": "08376289370634799181"
     },
     "user_tz": 300
    },
    "id": "-7epL1QzEr99",
    "outputId": "b6e2d64a-b360-49de-d12b-bb553dd30ed7"
   },
   "outputs": [
    {
     "name": "stdout",
     "output_type": "stream",
     "text": [
      "55.00000000000001\n"
     ]
    }
   ],
   "source": [
    "weight_kg = 25\n",
    "conversion = 2.2\n",
    "\n",
    "weight_lbs = weight_kg * conversion\n",
    "print(weight_lbs)"
   ]
  },
  {
   "cell_type": "code",
   "execution_count": 8,
   "metadata": {
    "colab": {
     "base_uri": "https://localhost:8080/",
     "height": 35
    },
    "executionInfo": {
     "elapsed": 117,
     "status": "ok",
     "timestamp": 1625081867676,
     "user": {
      "displayName": "Jess Senger",
      "photoUrl": "",
      "userId": "08376289370634799181"
     },
     "user_tz": 300
    },
    "id": "UZ16D1ABEyND",
    "outputId": "0dd9cde1-4b64-4512-f499-c6567106be07"
   },
   "outputs": [
    {
     "data": {
      "text/plain": [
       "'55 to the 60th decimal place: 55.000000000000007105427357601001858711242675781250000000000000'"
      ]
     },
     "execution_count": 8,
     "metadata": {},
     "output_type": "execute_result"
    }
   ],
   "source": [
    "\"55 to the 60th decimal place: {:.60f}\".format(2.2*25)"
   ]
  },
  {
   "cell_type": "markdown",
   "metadata": {
    "id": "oDK0BDqDfYLq"
   },
   "source": [
    "## 1 For loops in python\n",
    "\n",
    "You'll often want to run through all entries in a list and perform the same action on all of them. Useful examples are if you want to perform the same math operation a certain number of times or read in a number of files containing your data.\n",
    "\n",
    "The mechanism of a for loop is that you specify a certain number of times to perform an action, and then it will perform some action that many times. To learn more about for loops you can read this [website](https://www.w3schools.com/python/python_for_loops.asp).\n",
    "\n",
    "The indentation on the second line is key, and tells Python what you want to do for each iteration. In this example, we create a list of fruits labelled `fruits`, which has three items in it. We can then step through each of these elements in the list by momentarily assigning it to an oject `item`, starting with the first element of the list."
   ]
  },
  {
   "cell_type": "code",
   "execution_count": 9,
   "metadata": {
    "colab": {
     "base_uri": "https://localhost:8080/"
    },
    "executionInfo": {
     "elapsed": 113,
     "status": "ok",
     "timestamp": 1625078857262,
     "user": {
      "displayName": "Jess Senger",
      "photoUrl": "",
      "userId": "08376289370634799181"
     },
     "user_tz": 300
    },
    "id": "yaWtDfpZeUTL",
    "outputId": "24085fd4-133c-4502-8741-bdfa905acfd7"
   },
   "outputs": [
    {
     "name": "stdout",
     "output_type": "stream",
     "text": [
      "apple\n",
      "banana\n",
      "cherry\n"
     ]
    }
   ],
   "source": [
    "fruits = [\"apple\", \"banana\", \"cherry\"]\n",
    "for item in fruits:\n",
    "  print(item)"
   ]
  },
  {
   "cell_type": "markdown",
   "metadata": {
    "id": "OcWPLwdKhwWX"
   },
   "source": [
    "The mechanics of what is happening here is that each sequential element in `fruits` is being assigned to the indexer `item` and that is being printed out. The colon at the end of the for line tells python where to start the loop, and includes anything that is indented after that line.\n",
    "Now, something a little more complex:"
   ]
  },
  {
   "cell_type": "code",
   "execution_count": 10,
   "metadata": {
    "colab": {
     "base_uri": "https://localhost:8080/"
    },
    "executionInfo": {
     "elapsed": 131,
     "status": "ok",
     "timestamp": 1625215680843,
     "user": {
      "displayName": "Katerina Levi",
      "photoUrl": "",
      "userId": "14790590329608039426"
     },
     "user_tz": 240
    },
    "id": "GIUTN4B0hHFu",
    "outputId": "4ee648c7-5d91-4765-b6f0-58fb1f513e23"
   },
   "outputs": [
    {
     "name": "stdout",
     "output_type": "stream",
     "text": [
      "My favorite fruit is apple\n",
      "My favorite fruit is banana\n",
      "My favorite fruit is cherry\n",
      "This string is not in the for loop\n"
     ]
    }
   ],
   "source": [
    "fruits = [\"apple\", \"banana\", \"cherry\"]\n",
    "for item in fruits:\n",
    "  print(\"My favorite fruit is\", item)\n",
    "print('This string is not in the for loop')"
   ]
  },
  {
   "cell_type": "markdown",
   "metadata": {},
   "source": [
    "The last thing the for loop assigned to the variable `item` will be the last thing in the list, which is now stored in the memory. The original list, `fruits`, will be unchanged:"
   ]
  },
  {
   "cell_type": "code",
   "execution_count": 11,
   "metadata": {
    "colab": {
     "base_uri": "https://localhost:8080/",
     "height": 35
    },
    "executionInfo": {
     "elapsed": 141,
     "status": "ok",
     "timestamp": 1625215682634,
     "user": {
      "displayName": "Katerina Levi",
      "photoUrl": "",
      "userId": "14790590329608039426"
     },
     "user_tz": 240
    },
    "id": "s9LVV5mbeqym",
    "outputId": "73f91a67-23d8-4e22-8a27-386756c7a2f1"
   },
   "outputs": [
    {
     "name": "stdout",
     "output_type": "stream",
     "text": [
      "['apple', 'banana', 'cherry']\n",
      "cherry\n"
     ]
    }
   ],
   "source": [
    "print(fruits) # printing our original list\n",
    "print(item) # printing out the variable that is used in the for loop"
   ]
  },
  {
   "cell_type": "markdown",
   "metadata": {
    "id": "ue7knywaE7oA"
   },
   "source": [
    "One of the classic ways that scientists write for loops is to use the index `i` and then a range of values. Range is a built in function in python, that returns a list of sequential values by taking in in a starting point, a stopping point, and the step size. This range is important, because it tells the `for` loop where to start and when to stop. It starts at 1 and then it goes by 1 to 10 and **does not include 10**. First, we will examine what the list range looks like:"
   ]
  },
  {
   "cell_type": "code",
   "execution_count": 14,
   "metadata": {},
   "outputs": [],
   "source": [
    "?range"
   ]
  },
  {
   "cell_type": "code",
   "execution_count": 15,
   "metadata": {
    "colab": {
     "base_uri": "https://localhost:8080/"
    },
    "executionInfo": {
     "elapsed": 120,
     "status": "ok",
     "timestamp": 1625078901627,
     "user": {
      "displayName": "Jess Senger",
      "photoUrl": "",
      "userId": "08376289370634799181"
     },
     "user_tz": 300
    },
    "id": "tb4dK4iiWxIr",
    "outputId": "492159a2-670a-4a04-92c0-fb7d7b051ed6"
   },
   "outputs": [
    {
     "name": "stdout",
     "output_type": "stream",
     "text": [
      "1\n",
      "2\n",
      "3\n",
      "4\n",
      "5\n",
      "6\n",
      "7\n",
      "8\n",
      "9\n"
     ]
    }
   ],
   "source": [
    "for i in range(1,10,1): # from 1 to 10 (not including 10), step by one\n",
    "  print(i)"
   ]
  },
  {
   "cell_type": "markdown",
   "metadata": {
    "id": "kYCWX4R0XZhX"
   },
   "source": [
    "We can change the step size that `range` is using by changing the last input we give to range. We can go from 1 to 100, instead with a step size of 10. So, it starts at 1, then jumps to 11, and so on. It doesn't include 101 because it is outside of the range:"
   ]
  },
  {
   "cell_type": "code",
   "execution_count": 16,
   "metadata": {
    "colab": {
     "base_uri": "https://localhost:8080/"
    },
    "executionInfo": {
     "elapsed": 110,
     "status": "ok",
     "timestamp": 1625078921149,
     "user": {
      "displayName": "Jess Senger",
      "photoUrl": "",
      "userId": "08376289370634799181"
     },
     "user_tz": 300
    },
    "id": "O-v0q2JNXPDk",
    "outputId": "9e287e1a-38f7-4892-9df7-0f65f32f7695"
   },
   "outputs": [
    {
     "name": "stdout",
     "output_type": "stream",
     "text": [
      "1\n",
      "11\n",
      "21\n",
      "31\n",
      "41\n",
      "51\n",
      "61\n",
      "71\n",
      "81\n",
      "91\n"
     ]
    }
   ],
   "source": [
    "for i in range(1,100,10): # for 1 to 100 (not including 100), step by TEN\n",
    "  print(i)"
   ]
  },
  {
   "cell_type": "markdown",
   "metadata": {
    "id": "TwRsi04KWzTy"
   },
   "source": [
    "Now that we can see how the `i` and `range` work `for` loop works, we can use it to build a more complicated for loop. We initialize an empty list `squares`, and add each new value using the function `append`:"
   ]
  },
  {
   "cell_type": "code",
   "execution_count": 17,
   "metadata": {},
   "outputs": [
    {
     "name": "stdout",
     "output_type": "stream",
     "text": [
      "[]\n"
     ]
    }
   ],
   "source": [
    "squares = []\n",
    "print(squares)"
   ]
  },
  {
   "cell_type": "code",
   "execution_count": 18,
   "metadata": {
    "colab": {
     "base_uri": "https://localhost:8080/"
    },
    "executionInfo": {
     "elapsed": 119,
     "status": "ok",
     "timestamp": 1625078939391,
     "user": {
      "displayName": "Jess Senger",
      "photoUrl": "",
      "userId": "08376289370634799181"
     },
     "user_tz": 300
    },
    "id": "BnpBDDbmg5Iw",
    "outputId": "c2f94415-7501-4603-8587-98b77d8178c1"
   },
   "outputs": [
    {
     "name": "stdout",
     "output_type": "stream",
     "text": [
      "[1, 4, 9, 16, 25, 36, 49, 64, 81]\n"
     ]
    }
   ],
   "source": [
    "squares = []\n",
    "\n",
    "for i in range(1,10,1):\n",
    "  squares.append(i**2)\n",
    "\n",
    "print(squares)"
   ]
  },
  {
   "cell_type": "markdown",
   "metadata": {
    "id": "ixZRt2ClYFmP"
   },
   "source": [
    "What is happening here, is that i is momentarily being assinged a value within range. We can then perform an operation on that value (here an exponent) and then append the value to the empty list we created."
   ]
  },
  {
   "cell_type": "markdown",
   "metadata": {
    "id": "4qvVYJOsIw1M"
   },
   "source": [
    "## 2 Coding check in \n",
    "\n",
    "The post doc in Katie's lab refuses to use Fahrenheit when discussing the temperatures outside in Chicago! She needs help calculating the temperature in Fahrenheit to Celsius for a range of values from -10 to 80! You can do this for every 10 degrees.\n",
    "\n",
    "$C = (F - 32) * (5/9)$\n",
    "\n",
    "[p.s. this is a real story].\n",
    "\n",
    "Note: It also helps to write this out with words first, since Python pretty much works that way.\n",
    "\n",
    "Hint: you will momentarily assign each fahrenheit value to `i`\n"
   ]
  },
  {
   "cell_type": "code",
   "execution_count": null,
   "metadata": {
    "id": "3iJyo7SRVCOW"
   },
   "outputs": [],
   "source": [
    "## This is where you can write your answer!\n",
    "\n",
    "# set up empty list\n",
    "\n",
    "# set up for loop with range (the range will be your fahrenheit values)\n",
    "\n",
    "\n",
    "\n",
    "# print out your new array\n",
    "\n",
    "\n"
   ]
  },
  {
   "cell_type": "markdown",
   "metadata": {},
   "source": [
    "### Another important way to write a for loop\n",
    "\n",
    "Before moving on, I want to show another way to write a for loop if you already have some data. We can start with our `heights_inches` from yesterday and convert each height to meters using a for loop. This is similar to how our first example was written, but a more common way of writing it especially if you'd like to index multiple things by i. We now set the range to step through each element of height, and then we call up that height and convert it to meters:"
   ]
  },
  {
   "cell_type": "code",
   "execution_count": 19,
   "metadata": {},
   "outputs": [
    {
     "name": "stdout",
     "output_type": "stream",
     "text": [
      "[1.4986000000000002, 2.032, 1.6256, 1.3969999999999998, 1.8796000000000002, 1.778, 1.143, 1.6764000000000001, 1.3716, 1.6256, 1.524, 1.5493999999999999, 1.778]\n"
     ]
    }
   ],
   "source": [
    "heights_inches = [59, 80, 64, 55, 74, 70, 45, 66, 54, 64, 60, 61, 70]\n",
    "\n",
    "heights_m = []\n",
    "\n",
    "for i in range(0,len(heights_inches),1):\n",
    "    heights_m.append(heights_inches[i]*2.54/100)\n",
    "    \n",
    "print(heights_m)"
   ]
  },
  {
   "cell_type": "markdown",
   "metadata": {},
   "source": [
    "## 3 Combining our skills\n",
    "\n",
    "You can also use dictionaries within for loops to perform more complicated actions. First, I'll explain a new concept, which is used for printing or reformating text."
   ]
  },
  {
   "cell_type": "markdown",
   "metadata": {},
   "source": [
    "### 3.1 `f-string`\n",
    "\n",
    "The `f-string` is a new an improved way of formatting printed statements. They are more explicitely called “formatted string literals,” f-strings are string literals that have an f at the beginning and curly braces containing expressions that will be replaced with their values.\n",
    "\n",
    "You'll notice we used `format` earlier to format the output of the floating point cells, but this is the new and improved way of doing that, which you can read about [here](https://realpython.com/python-f-strings/). This is similar to that. "
   ]
  },
  {
   "cell_type": "code",
   "execution_count": null,
   "metadata": {},
   "outputs": [],
   "source": [
    "name = 'Katie'\n",
    "age = 28\n",
    "\n",
    "welcome = f\"Hello, {name}. You are {age}.\"\n",
    "\n",
    "print(welcome)\n"
   ]
  },
  {
   "cell_type": "code",
   "execution_count": null,
   "metadata": {},
   "outputs": [],
   "source": []
  },
  {
   "cell_type": "markdown",
   "metadata": {},
   "source": [
    "### 3.2 Dictionaries in a for loop \n",
    "\n",
    "I love the beach and the coast, so I'm looking at where I'd like to move for my next position. For this example, I've collected the coastline in kilometers for a series of states, but I also want to know how many people I am going to have to compete with for a nice beach day-- I dislike crowded beaches! So I'm first going to define two dictionaries, one for the coastline for each state as the key and one for population size."
   ]
  },
  {
   "cell_type": "code",
   "execution_count": 22,
   "metadata": {},
   "outputs": [],
   "source": [
    "states = ['Alaska', 'Florida', 'California', 'Hawaii','Louisiana','Delaware','Illinois']\n",
    "\n",
    "coastline = [10690, 2170, 1350, 1210, 639, 45, 0]\n",
    "population = [733391,21538187,39538223,1455271,4657757,989948,12812508]\n",
    "\n",
    "coast_dict = dict(zip(states,coastline))\n",
    "pop_dict = dict(zip(states,population))"
   ]
  },
  {
   "cell_type": "markdown",
   "metadata": {},
   "source": [
    "You can iterate over the keys to print out the dictionary:"
   ]
  },
  {
   "cell_type": "code",
   "execution_count": 23,
   "metadata": {},
   "outputs": [
    {
     "name": "stdout",
     "output_type": "stream",
     "text": [
      "Alaska 10690\n",
      "Florida 2170\n",
      "California 1350\n",
      "Hawaii 1210\n",
      "Louisiana 639\n",
      "Delaware 45\n",
      "Illinois 0\n"
     ]
    }
   ],
   "source": [
    "for key in coast_dict:\n",
    "    print (key, coast_dict[key])"
   ]
  },
  {
   "cell_type": "markdown",
   "metadata": {},
   "source": [
    "Next, I'm going to use a for loop to calculate the per capita (per person) amount of coastline. Since I don't want to share my beaches, I want the most km per capita!"
   ]
  },
  {
   "cell_type": "code",
   "execution_count": 24,
   "metadata": {},
   "outputs": [
    {
     "name": "stdout",
     "output_type": "stream",
     "text": [
      "Alaska has 0.0145761 km of beaches per capita \n",
      "Florida has 0.0001008 km of beaches per capita \n",
      "California has 3.41e-05 km of beaches per capita \n",
      "Hawaii has 0.0008315 km of beaches per capita \n",
      "Louisiana has 0.0001372 km of beaches per capita \n",
      "Delaware has 4.55e-05 km of beaches per capita \n",
      "Illinois has 0.0 km of beaches per capita \n"
     ]
    }
   ],
   "source": [
    "for key in states:\n",
    "    state_coast = coast_dict[key]\n",
    "    state_pop = pop_dict[key]\n",
    "    \n",
    "    pc_coast = round(state_coast/state_pop,7)\n",
    "\n",
    "    print(f\"{key} has {pc_coast} km of beaches per capita \") "
   ]
  },
  {
   "cell_type": "markdown",
   "metadata": {},
   "source": [
    "Great! I have my answers, but they're a little hard to interpret because they're so far down the decimal place. I'm going to instead convert my numbers to be per million people, instead of per one person. "
   ]
  },
  {
   "cell_type": "code",
   "execution_count": 25,
   "metadata": {},
   "outputs": [
    {
     "name": "stdout",
     "output_type": "stream",
     "text": [
      "Alaska has 14576.13 km of beaches per million people \n",
      "Florida has 100.75 km of beaches per million people \n",
      "California has 34.14 km of beaches per million people \n",
      "Hawaii has 831.46 km of beaches per million people \n",
      "Louisiana has 137.19 km of beaches per million people \n",
      "Delaware has 45.46 km of beaches per million people \n",
      "Illinois has 0.0 km of beaches per million people \n"
     ]
    }
   ],
   "source": [
    "for key in states:\n",
    "    state_coast = coast_dict[key]\n",
    "    state_pop = pop_dict[key]/1000000\n",
    "    \n",
    "    pc_coast = round(state_coast/state_pop,2)\n",
    "\n",
    "    print(f\"{key} has {pc_coast} km of beaches per million people \") "
   ]
  },
  {
   "cell_type": "markdown",
   "metadata": {},
   "source": [
    "**I guess I'm moving to Alaska!**\n",
    "\n",
    "*Note*: This is not the best way of accomplishign this task, but hopefully helps cement the mechanics of `for loops` and `dictionaries`. Preferably we would have this data stored in a `.csv` or `.txt` instead of copying and pasting into the coding cell. There are also ways of doing this inside your data frame not using a for loop using `pandas`."
   ]
  },
  {
   "cell_type": "markdown",
   "metadata": {},
   "source": [
    "# 4 Coding check in\n",
    "\n",
    "I've made myself a big batch of pudding and after having a bowl of it I need to put it away in some **cuboid** shaped tupperware. I'm bad at eyeballing volumes, but I know the heights, widths, and lengths of all my tupperware. If I have 60 cubic inches of pudding, which tupperware should I put it in if I want to take up as much space as possible:\n",
    "\n",
    "Tupperware I have [height,width,length]\n",
    "* Blue tupperware [3, 7, 3]\n",
    "* Red tupperware [4, 5, 2]\n",
    "* Green tupperware [5, 6, 2.5]\n",
    "* Yellow tupperware [6, 4, 2]\n",
    "* Orange tupperware [6.5, 3, 3]\n",
    "\n",
    "Create three dictionaries of heights, widths, and lengths, use a for loop to calculate the volume of my tupperware:"
   ]
  },
  {
   "cell_type": "code",
   "execution_count": 35,
   "metadata": {},
   "outputs": [],
   "source": [
    "###### answer to coding check in!\n",
    "\n",
    "h=[3,4,5,6,6.5]\n",
    "w=[7,5,6,4,3]\n",
    "l=[3,2,2.5,2,3]\n",
    "\n",
    "h_w=dict(zip(h,w))\n",
    "h_l=dict(zip(h,l))\n",
    "\n",
    "names=['b','r','g','y','o']\n",
    "h_names=dict(zip(h,names))\n"
   ]
  },
  {
   "cell_type": "markdown",
   "metadata": {},
   "source": [
    "There's a lot of different ways to accomplish the same task, so I'll show you another way of completing this"
   ]
  },
  {
   "cell_type": "code",
   "execution_count": 39,
   "metadata": {},
   "outputs": [
    {
     "name": "stdout",
     "output_type": "stream",
     "text": [
      "my b container is 63 cubic inches\n",
      "my r container is 40 cubic inches\n",
      "my g container is 75.0 cubic inches\n",
      "my y container is 48 cubic inches\n",
      "my o container is 58.5 cubic inches\n"
     ]
    }
   ],
   "source": [
    "### answer to alternative coding check in \n",
    "\n",
    "for i in h:\n",
    "    vol=h_w.get(i)*h_l.get(i)*i\n",
    "    print(f'my {h_names[i]} container is {vol} cubic inches')\n",
    "\n"
   ]
  },
  {
   "cell_type": "markdown",
   "metadata": {},
   "source": [
    "## 5 Nested for loops\n",
    "\n",
    "So far, we've only used `if statements` within for loops, but we can also use another `for loop` within a `for loop`, which are called nested for loops. The code doesn't move on to the next iterative in a for loop until all the for loops nested within it are completed. This means we will start with one polynomial (the first being 0) and then perform our calculations on each value in the `numbers` list before moving to the next polynomial."
   ]
  },
  {
   "cell_type": "code",
   "execution_count": 40,
   "metadata": {},
   "outputs": [
    {
     "name": "stdout",
     "output_type": "stream",
     "text": [
      "Our numbers to the 0 power is [1, 1, 1, 1, 1]\n",
      "Our numbers to the 1 power is [1, 5, 10, 25, 100]\n",
      "Our numbers to the 2 power is [1, 25, 100, 625, 10000]\n",
      "Our numbers to the 3 power is [1, 125, 1000, 15625, 1000000]\n",
      "Our numbers to the 4 power is [1, 625, 10000, 390625, 100000000]\n",
      "Our numbers to the 5 power is [1, 3125, 100000, 9765625, 10000000000]\n"
     ]
    }
   ],
   "source": [
    "polynomials = [0,1,2,3,4,5]\n",
    "numbers = [1,5,10,25,100]\n",
    "\n",
    "for poly in polynomials:\n",
    "    vals = []\n",
    "    for num in numbers:\n",
    "        vals.append(num**poly)\n",
    "    print(f\"Our numbers to the {poly} power is {vals}\")"
   ]
  },
  {
   "cell_type": "markdown",
   "metadata": {},
   "source": [
    "There's no real limit (except time) on the number of for loops you can nest within another one. In our next example we will examine the speeds of many different colored vehicles. In this example, we will not move to the color `blue` until we have completed all the for iteratives for `red`."
   ]
  },
  {
   "cell_type": "code",
   "execution_count": 41,
   "metadata": {},
   "outputs": [],
   "source": [
    "colors = ['red','blue','white','black']\n",
    "vehicles = ['car','buggy','tricycle','bus','airplane']\n",
    "motion = ['goes','drives','flies']\n",
    "speed = ['fast','slow','lightspeed','mach 5']"
   ]
  },
  {
   "cell_type": "code",
   "execution_count": 42,
   "metadata": {},
   "outputs": [
    {
     "name": "stdout",
     "output_type": "stream",
     "text": [
      "The red car goes fast\n",
      "The red car goes slow\n",
      "The red car goes lightspeed\n",
      "The red car goes mach 5\n",
      "The red car drives fast\n",
      "The red car drives slow\n",
      "The red car drives lightspeed\n",
      "The red car drives mach 5\n",
      "The red car flies fast\n",
      "The red car flies slow\n",
      "The red car flies lightspeed\n",
      "The red car flies mach 5\n",
      "The red buggy goes fast\n",
      "The red buggy goes slow\n",
      "The red buggy goes lightspeed\n",
      "The red buggy goes mach 5\n",
      "The red buggy drives fast\n",
      "The red buggy drives slow\n",
      "The red buggy drives lightspeed\n",
      "The red buggy drives mach 5\n",
      "The red buggy flies fast\n",
      "The red buggy flies slow\n",
      "The red buggy flies lightspeed\n",
      "The red buggy flies mach 5\n",
      "The red tricycle goes fast\n",
      "The red tricycle goes slow\n",
      "The red tricycle goes lightspeed\n",
      "The red tricycle goes mach 5\n",
      "The red tricycle drives fast\n",
      "The red tricycle drives slow\n",
      "The red tricycle drives lightspeed\n",
      "The red tricycle drives mach 5\n",
      "The red tricycle flies fast\n",
      "The red tricycle flies slow\n",
      "The red tricycle flies lightspeed\n",
      "The red tricycle flies mach 5\n",
      "The red bus goes fast\n",
      "The red bus goes slow\n",
      "The red bus goes lightspeed\n",
      "The red bus goes mach 5\n",
      "The red bus drives fast\n",
      "The red bus drives slow\n",
      "The red bus drives lightspeed\n",
      "The red bus drives mach 5\n",
      "The red bus flies fast\n",
      "The red bus flies slow\n",
      "The red bus flies lightspeed\n",
      "The red bus flies mach 5\n",
      "The red airplane goes fast\n",
      "The red airplane goes slow\n",
      "The red airplane goes lightspeed\n",
      "The red airplane goes mach 5\n",
      "The red airplane drives fast\n",
      "The red airplane drives slow\n",
      "The red airplane drives lightspeed\n",
      "The red airplane drives mach 5\n",
      "The red airplane flies fast\n",
      "The red airplane flies slow\n",
      "The red airplane flies lightspeed\n",
      "The red airplane flies mach 5\n",
      "The blue car goes fast\n",
      "The blue car goes slow\n",
      "The blue car goes lightspeed\n",
      "The blue car goes mach 5\n",
      "The blue car drives fast\n",
      "The blue car drives slow\n",
      "The blue car drives lightspeed\n",
      "The blue car drives mach 5\n",
      "The blue car flies fast\n",
      "The blue car flies slow\n",
      "The blue car flies lightspeed\n",
      "The blue car flies mach 5\n",
      "The blue buggy goes fast\n",
      "The blue buggy goes slow\n",
      "The blue buggy goes lightspeed\n",
      "The blue buggy goes mach 5\n",
      "The blue buggy drives fast\n",
      "The blue buggy drives slow\n",
      "The blue buggy drives lightspeed\n",
      "The blue buggy drives mach 5\n",
      "The blue buggy flies fast\n",
      "The blue buggy flies slow\n",
      "The blue buggy flies lightspeed\n",
      "The blue buggy flies mach 5\n",
      "The blue tricycle goes fast\n",
      "The blue tricycle goes slow\n",
      "The blue tricycle goes lightspeed\n",
      "The blue tricycle goes mach 5\n",
      "The blue tricycle drives fast\n",
      "The blue tricycle drives slow\n",
      "The blue tricycle drives lightspeed\n",
      "The blue tricycle drives mach 5\n",
      "The blue tricycle flies fast\n",
      "The blue tricycle flies slow\n",
      "The blue tricycle flies lightspeed\n",
      "The blue tricycle flies mach 5\n",
      "The blue bus goes fast\n",
      "The blue bus goes slow\n",
      "The blue bus goes lightspeed\n",
      "The blue bus goes mach 5\n",
      "The blue bus drives fast\n",
      "The blue bus drives slow\n",
      "The blue bus drives lightspeed\n",
      "The blue bus drives mach 5\n",
      "The blue bus flies fast\n",
      "The blue bus flies slow\n",
      "The blue bus flies lightspeed\n",
      "The blue bus flies mach 5\n",
      "The blue airplane goes fast\n",
      "The blue airplane goes slow\n",
      "The blue airplane goes lightspeed\n",
      "The blue airplane goes mach 5\n",
      "The blue airplane drives fast\n",
      "The blue airplane drives slow\n",
      "The blue airplane drives lightspeed\n",
      "The blue airplane drives mach 5\n",
      "The blue airplane flies fast\n",
      "The blue airplane flies slow\n",
      "The blue airplane flies lightspeed\n",
      "The blue airplane flies mach 5\n",
      "The white car goes fast\n",
      "The white car goes slow\n",
      "The white car goes lightspeed\n",
      "The white car goes mach 5\n",
      "The white car drives fast\n",
      "The white car drives slow\n",
      "The white car drives lightspeed\n",
      "The white car drives mach 5\n",
      "The white car flies fast\n",
      "The white car flies slow\n",
      "The white car flies lightspeed\n",
      "The white car flies mach 5\n",
      "The white buggy goes fast\n",
      "The white buggy goes slow\n",
      "The white buggy goes lightspeed\n",
      "The white buggy goes mach 5\n",
      "The white buggy drives fast\n",
      "The white buggy drives slow\n",
      "The white buggy drives lightspeed\n",
      "The white buggy drives mach 5\n",
      "The white buggy flies fast\n",
      "The white buggy flies slow\n",
      "The white buggy flies lightspeed\n",
      "The white buggy flies mach 5\n",
      "The white tricycle goes fast\n",
      "The white tricycle goes slow\n",
      "The white tricycle goes lightspeed\n",
      "The white tricycle goes mach 5\n",
      "The white tricycle drives fast\n",
      "The white tricycle drives slow\n",
      "The white tricycle drives lightspeed\n",
      "The white tricycle drives mach 5\n",
      "The white tricycle flies fast\n",
      "The white tricycle flies slow\n",
      "The white tricycle flies lightspeed\n",
      "The white tricycle flies mach 5\n",
      "The white bus goes fast\n",
      "The white bus goes slow\n",
      "The white bus goes lightspeed\n",
      "The white bus goes mach 5\n",
      "The white bus drives fast\n",
      "The white bus drives slow\n",
      "The white bus drives lightspeed\n",
      "The white bus drives mach 5\n",
      "The white bus flies fast\n",
      "The white bus flies slow\n",
      "The white bus flies lightspeed\n",
      "The white bus flies mach 5\n",
      "The white airplane goes fast\n",
      "The white airplane goes slow\n",
      "The white airplane goes lightspeed\n",
      "The white airplane goes mach 5\n",
      "The white airplane drives fast\n",
      "The white airplane drives slow\n",
      "The white airplane drives lightspeed\n",
      "The white airplane drives mach 5\n",
      "The white airplane flies fast\n",
      "The white airplane flies slow\n",
      "The white airplane flies lightspeed\n",
      "The white airplane flies mach 5\n",
      "The black car goes fast\n",
      "The black car goes slow\n",
      "The black car goes lightspeed\n",
      "The black car goes mach 5\n",
      "The black car drives fast\n",
      "The black car drives slow\n",
      "The black car drives lightspeed\n",
      "The black car drives mach 5\n",
      "The black car flies fast\n",
      "The black car flies slow\n",
      "The black car flies lightspeed\n",
      "The black car flies mach 5\n",
      "The black buggy goes fast\n",
      "The black buggy goes slow\n",
      "The black buggy goes lightspeed\n",
      "The black buggy goes mach 5\n",
      "The black buggy drives fast\n",
      "The black buggy drives slow\n",
      "The black buggy drives lightspeed\n",
      "The black buggy drives mach 5\n",
      "The black buggy flies fast\n",
      "The black buggy flies slow\n",
      "The black buggy flies lightspeed\n",
      "The black buggy flies mach 5\n",
      "The black tricycle goes fast\n",
      "The black tricycle goes slow\n",
      "The black tricycle goes lightspeed\n",
      "The black tricycle goes mach 5\n",
      "The black tricycle drives fast\n",
      "The black tricycle drives slow\n",
      "The black tricycle drives lightspeed\n",
      "The black tricycle drives mach 5\n",
      "The black tricycle flies fast\n",
      "The black tricycle flies slow\n",
      "The black tricycle flies lightspeed\n",
      "The black tricycle flies mach 5\n",
      "The black bus goes fast\n",
      "The black bus goes slow\n",
      "The black bus goes lightspeed\n",
      "The black bus goes mach 5\n",
      "The black bus drives fast\n",
      "The black bus drives slow\n",
      "The black bus drives lightspeed\n",
      "The black bus drives mach 5\n",
      "The black bus flies fast\n",
      "The black bus flies slow\n",
      "The black bus flies lightspeed\n",
      "The black bus flies mach 5\n",
      "The black airplane goes fast\n",
      "The black airplane goes slow\n",
      "The black airplane goes lightspeed\n",
      "The black airplane goes mach 5\n",
      "The black airplane drives fast\n",
      "The black airplane drives slow\n",
      "The black airplane drives lightspeed\n",
      "The black airplane drives mach 5\n",
      "The black airplane flies fast\n",
      "The black airplane flies slow\n",
      "The black airplane flies lightspeed\n",
      "The black airplane flies mach 5\n"
     ]
    }
   ],
   "source": [
    "for col in colors:\n",
    "    for veh in vehicles:\n",
    "        for mot in motion:\n",
    "            for sp in speed:                \n",
    "                print(f\"The {col} {veh} {mot} {sp}\")"
   ]
  },
  {
   "cell_type": "markdown",
   "metadata": {},
   "source": [
    "That was a lot of stuff printed out! We can find out how many iterations we went through using the `len` function:"
   ]
  },
  {
   "cell_type": "code",
   "execution_count": null,
   "metadata": {},
   "outputs": [],
   "source": [
    "print(\"Wow, we printed out\", len(colors)*len(vehicles)*len(motion)*len(speed), \"lines\")"
   ]
  },
  {
   "cell_type": "markdown",
   "metadata": {},
   "source": [
    "## 6 Coding check in\n",
    "\n",
    "One of my hobbies is baking, and I'm always having trouble with my measurement conversions (and my partner just broke my tablespoon measurement). I'd like you to write me a nested for loop that I can print out and put on my fridge.\n",
    "\n",
    "To make this interesting, I'd like you to iterate over several values of measurements in cups for several common measurements (oz, tbsp, tsp, ml). You can use a dictionary of conversions, where the keys are the metrics that map to a conversion to cups and example being `{'oz' : 8}` because there are 8 oz in a cup. Iterate over all the keys in the dictionary and do the conversion for several values of cup sizes. Use an `f string` to print out the conversion.\n",
    "\n",
    "Remember, there are 8 oz in a cup, 16 tbsp, 28 tsp, and 237 ml. "
   ]
  },
  {
   "cell_type": "code",
   "execution_count": 54,
   "metadata": {},
   "outputs": [
    {
     "name": "stdout",
     "output_type": "stream",
     "text": [
      "{8: 'oz', 16: 'tbsp', 28: 'tsp', 237: 'ml'}\n",
      "0 is None cups\n",
      "2 is None cups\n",
      "3 is None cups\n",
      "5 is None cups\n",
      "8 is oz cups\n",
      "16 is tbsp cups\n",
      "28 is tsp cups\n",
      "237 is ml cups\n"
     ]
    }
   ],
   "source": [
    "# conversions dictionary \n",
    "cs=[8,16,28,237]\n",
    "con={8:'oz', cs[1]:'tbsp', cs[2]:'tsp', cs[3]:'ml'}\n",
    "print (con)\n",
    "\n",
    "\n",
    "# nested for loops\n",
    "some_cups=[0,2,3,5,8,16,28,237]\n",
    "\n",
    "for i in some_cups:\n",
    "    vals=con.get(i)\n",
    "    print(f'{i} is {vals} cups')\n",
    "    "
   ]
  },
  {
   "cell_type": "markdown",
   "metadata": {
    "id": "pWGN-pfaOYhE"
   },
   "source": [
    "## 7 If/else statements\n",
    "\n",
    "If statements are conditional tests that allow you to interrogate values and then perform actions if they are true or false. These are handy tools for cleaning up data and performing analysis. We will start small and work our way up. \n",
    "\n",
    "First, we will recall back to yesterdays exercise when we checked if something was true or not using the `==,>`, or `<` sign. There are several different tests we can do. These are including \n",
    "\n",
    "* `==` if something is equal to\n",
    "* `>` greater than\n",
    "* `>=` greater than or equal to\n",
    "* `<` less than\n",
    "* `<=` less than or equal to\n",
    "* `!=` not equal to\n"
   ]
  },
  {
   "cell_type": "code",
   "execution_count": 66,
   "metadata": {
    "colab": {
     "base_uri": "https://localhost:8080/"
    },
    "executionInfo": {
     "elapsed": 119,
     "status": "ok",
     "timestamp": 1625079028964,
     "user": {
      "displayName": "Jess Senger",
      "photoUrl": "",
      "userId": "08376289370634799181"
     },
     "user_tz": 300
    },
    "id": "tesdaB3HPVof",
    "outputId": "2152b72e-bd94-4082-d1fc-8076f100b5c7"
   },
   "outputs": [
    {
     "data": {
      "text/plain": [
       "True"
      ]
     },
     "execution_count": 66,
     "metadata": {},
     "output_type": "execute_result"
    }
   ],
   "source": [
    "my_age = 28 # defining my age\n",
    "\n",
    "my_age >= 18 # asking if this is greater than or equal to 18"
   ]
  },
  {
   "cell_type": "markdown",
   "metadata": {
    "id": "5qP5peYjPg9r"
   },
   "source": [
    "So we set our age to be some value, and then we asked Python if that value was greater than or equal to 18, and it returned either `True` or `False`. We utilize an if statement to then perform some action.\n",
    "\n",
    "So now, we can write a if statement that will print out a statement that we can vote if we are older than 18, and we cannot vote if we are younger than 18. "
   ]
  },
  {
   "cell_type": "code",
   "execution_count": 67,
   "metadata": {
    "colab": {
     "base_uri": "https://localhost:8080/"
    },
    "executionInfo": {
     "elapsed": 121,
     "status": "ok",
     "timestamp": 1625079041863,
     "user": {
      "displayName": "Jess Senger",
      "photoUrl": "",
      "userId": "08376289370634799181"
     },
     "user_tz": 300
    },
    "id": "ijVVbmS6Pga7",
    "outputId": "a098c888-347f-4380-e7e4-11754ea31f97"
   },
   "outputs": [
    {
     "name": "stdout",
     "output_type": "stream",
     "text": [
      "Maybe next year!\n"
     ]
    }
   ],
   "source": [
    "my_age = 10\n",
    "\n",
    "if my_age >= 18: # if my_age is greater than equal to 18\n",
    "  print(\"You can vote!\")\n",
    "else:\n",
    "  print(\"Maybe next year!\")"
   ]
  },
  {
   "cell_type": "markdown",
   "metadata": {
    "id": "YUHHPdHuVOdy"
   },
   "source": [
    "### 4.1 Using `and` and `or`\n",
    "\n",
    "You may also want to check multiple conditions, which can be done using the `and` and `or` conditions. In the case of `and`, both conditions must be true to pass. In the case of `or`, only one of them needs to be true to pass."
   ]
  },
  {
   "cell_type": "code",
   "execution_count": 68,
   "metadata": {
    "colab": {
     "base_uri": "https://localhost:8080/"
    },
    "executionInfo": {
     "elapsed": 231,
     "status": "ok",
     "timestamp": 1625216684143,
     "user": {
      "displayName": "Katerina Levi",
      "photoUrl": "",
      "userId": "14790590329608039426"
     },
     "user_tz": 240
    },
    "id": "v-U5cRBnWY4B",
    "outputId": "9629a3c9-8572-4807-e5cf-15b782c80c83"
   },
   "outputs": [
    {
     "name": "stdout",
     "output_type": "stream",
     "text": [
      "At least one of us does not like sharks\n"
     ]
    }
   ],
   "source": [
    "my_animal = 'dolphin'\n",
    "your_animal = 'shark'\n",
    "\n",
    "if (my_animal == 'shark') and (your_animal == 'shark'):\n",
    "  print(\"We both like sharks\")\n",
    "else:\n",
    "  print(\"At least one of us does not like sharks\")"
   ]
  },
  {
   "cell_type": "markdown",
   "metadata": {},
   "source": [
    "We can also use `or` when testing conditions if only one of the things need to be true! For example, if I always keep a tally of the pastas in my pantry, I can check to see if I am ready to make pasta!"
   ]
  },
  {
   "cell_type": "code",
   "execution_count": 69,
   "metadata": {},
   "outputs": [
    {
     "name": "stdout",
     "output_type": "stream",
     "text": [
      "We are ready to make pasta\n"
     ]
    }
   ],
   "source": [
    "gnocci = True\n",
    "spaghetti = True\n",
    "penne = False\n",
    "\n",
    "if (gnocci == True) or (spaghetti == True) or (penne == True):\n",
    "  print(\"We are ready to make pasta\")\n",
    "else:\n",
    "  print(\"We have to go to the store to get some pasta\")"
   ]
  },
  {
   "cell_type": "markdown",
   "metadata": {
    "id": "yrlNfG9VhAeL"
   },
   "source": [
    "## 8 Coding Check in\n",
    "\n",
    "It's the end of the fourth quarter the Tampa Bay Buccaneers are down 28-30 against the Cleveland Browns. They are too far away for a field goal, so Tom Brady (quarterback) is going to attemp a Hail Mary to Rob Gronkowski (Tight End). \n",
    "\n",
    "In order to get the touch down, Tom Brady needs to throw the ball at least 60 yards `and` Rob Gronkowski needs to be open. Write an `if` statement that tests whether Gronk can make the catch and prints out who wins. \n",
    "\n",
    "First, define your variables `brady_throw` to be some number, and `gronk_open` to be `True` or `False`. Then, test those conditions using your `if` statement.\n",
    "\n",
    "Note: It helps to write this out in words first!\n"
   ]
  },
  {
   "cell_type": "code",
   "execution_count": 70,
   "metadata": {
    "id": "WDPSRUIfm4q7"
   },
   "outputs": [
    {
     "name": "stdout",
     "output_type": "stream",
     "text": [
      "do we want a?\n",
      "what?\n"
     ]
    }
   ],
   "source": [
    "### Write your code for the coding check in here\n",
    "\n",
    "\n",
    "\n",
    "hi=input('do we want a?')\n",
    "\n",
    "if hi =='yes':\n",
    "    print('the right answer')\n",
    "else:\n",
    "    print('what?')\n",
    "\n",
    "\n"
   ]
  },
  {
   "cell_type": "markdown",
   "metadata": {},
   "source": [
    "## 9 Getting rid of some pesky NaNs by combining for loop and if statement\n",
    "\n",
    "`NaN` stands for not a number, and is used to represent any value that is undefined or unpresentable. Examples of a `NaN` would be if you divide a number by zero or if a datapoint is missing in your file. They can be annoying to work with. It's important to understand why this `NaN` is in your data before proceeding, so you can ask your questions like:\n",
    "\n",
    "* Should I drop the data point? \n",
    "* Should I make the data point a zero?\n",
    "* Should I interpolate this data point (i.e. replace it with the mean)?\n",
    "\n",
    "Say I went around asking my friends how they would rate the new show House of Dragons. I got an answer from 4 people but as I was asking my friend Craig he got a phone call and had to leave so I marked him down as an `NaN`. When I go to take a mean, I get an error because a `NaN` is not numeric. "
   ]
  },
  {
   "cell_type": "code",
   "execution_count": 71,
   "metadata": {},
   "outputs": [
    {
     "ename": "TypeError",
     "evalue": "unsupported operand type(s) for +: 'int' and 'str'",
     "output_type": "error",
     "traceback": [
      "\u001b[0;31m---------------------------------------------------------------------------\u001b[0m",
      "\u001b[0;31mTypeError\u001b[0m                                 Traceback (most recent call last)",
      "\u001b[0;32m<ipython-input-71-b31f0fe5dc3b>\u001b[0m in \u001b[0;36m<module>\u001b[0;34m\u001b[0m\n\u001b[1;32m      1\u001b[0m \u001b[0mdata\u001b[0m \u001b[0;34m=\u001b[0m \u001b[0;34m[\u001b[0m\u001b[0;36m10\u001b[0m\u001b[0;34m,\u001b[0m\u001b[0;36m7\u001b[0m\u001b[0;34m,\u001b[0m\u001b[0;36m8\u001b[0m\u001b[0;34m,\u001b[0m\u001b[0;36m6\u001b[0m\u001b[0;34m,\u001b[0m\u001b[0;34m'NaN'\u001b[0m\u001b[0;34m]\u001b[0m\u001b[0;34m\u001b[0m\u001b[0m\n\u001b[1;32m      2\u001b[0m \u001b[0;34m\u001b[0m\u001b[0m\n\u001b[0;32m----> 3\u001b[0;31m \u001b[0mmean_data\u001b[0m \u001b[0;34m=\u001b[0m \u001b[0msum\u001b[0m\u001b[0;34m(\u001b[0m\u001b[0mdata\u001b[0m\u001b[0;34m)\u001b[0m\u001b[0;34m/\u001b[0m\u001b[0mlen\u001b[0m\u001b[0;34m(\u001b[0m\u001b[0mdata\u001b[0m\u001b[0;34m)\u001b[0m\u001b[0;34m\u001b[0m\u001b[0m\n\u001b[0m\u001b[1;32m      4\u001b[0m \u001b[0mprint\u001b[0m\u001b[0;34m(\u001b[0m\u001b[0mmean_data\u001b[0m\u001b[0;34m)\u001b[0m\u001b[0;34m\u001b[0m\u001b[0m\n",
      "\u001b[0;31mTypeError\u001b[0m: unsupported operand type(s) for +: 'int' and 'str'"
     ]
    }
   ],
   "source": [
    "data = [10,7,8,6,'NaN']\n",
    "\n",
    "mean_data = sum(data)/len(data)\n",
    "print(mean_data)"
   ]
  },
  {
   "cell_type": "markdown",
   "metadata": {},
   "source": [
    " This data point wouldn't be necessary when taking a mean, so I can drop it. "
   ]
  },
  {
   "cell_type": "code",
   "execution_count": 72,
   "metadata": {},
   "outputs": [
    {
     "name": "stdout",
     "output_type": "stream",
     "text": [
      "Original data is: [10, 7, 8, 6, 'NaN']\n",
      "Cleaned data is: [10, 7, 8, 6]\n"
     ]
    }
   ],
   "source": [
    "data = [10,7,8,6,'NaN']\n",
    "print(\"Original data is:\", data)\n",
    "\n",
    "data_clean = []\n",
    "\n",
    "for i in range(0,len(data)):\n",
    "    if (data[i] != 'NaN'):\n",
    "        data_clean.append(data[i])\n",
    "        \n",
    "print(\"Cleaned data is:\", data_clean)"
   ]
  },
  {
   "cell_type": "code",
   "execution_count": 73,
   "metadata": {},
   "outputs": [
    {
     "name": "stdout",
     "output_type": "stream",
     "text": [
      "7.75\n"
     ]
    }
   ],
   "source": [
    "mean_data = sum(data_clean)/len(data_clean) # updated to clean_data\n",
    "print(mean_data)"
   ]
  },
  {
   "cell_type": "markdown",
   "metadata": {
    "id": "6lFEPpb5ZcVr"
   },
   "source": [
    "## 10 `elif` statements\n",
    "\n",
    "Sometimes, there will be multiple situations you want to test at the same time. In this case, we use an `elif` statement, which tests another condition.\n",
    "\n",
    "A key note here is that Python will only go on to the next `elif` statement if it fails the test, so the ordering of the statments is **very important**. This is similar to making a decision tree.\n",
    "\n",
    "This situation might arise if you are an Illinois resident and you want to visit the Field Museum and get the all access pass so you can go to a 3D movie. There are different prices based on your age, so we need to have more than one test. We start at the youngest age and then work our way up. The last statement we have is the `else` statement, which gives all the people who didn't pass the other requirements their ticket price:\n",
    "\n",
    "The order of events\n",
    "* Ask if age is less than 3, admission is **free** if it is\n",
    "* Ask if age is less than 11 (but older than 3 because it failed that test), admission is $\\$27$ if it is\n",
    "* Ask if age is older than 65 (but older than 11 because it failed that test), admission is $\\$35$ if it is\n",
    "* Everyone not fitting these categories, admission is $\\$38$ for the rest"
   ]
  },
  {
   "cell_type": "code",
   "execution_count": 80,
   "metadata": {
    "colab": {
     "base_uri": "https://localhost:8080/",
     "height": 35
    },
    "executionInfo": {
     "elapsed": 435,
     "status": "ok",
     "timestamp": 1599064496526,
     "user": {
      "displayName": "Katherine Dixon",
      "photoUrl": "",
      "userId": "15494218692838460261"
     },
     "user_tz": 300
    },
    "id": "ftrUli4AcQuY",
    "outputId": "0fd18c4b-30e0-4804-c771-5cf386cc450b"
   },
   "outputs": [
    {
     "name": "stdout",
     "output_type": "stream",
     "text": [
      "Your admission is $35\n"
     ]
    }
   ],
   "source": [
    "age = 105\n",
    "\n",
    "if age < 3: # first test\n",
    "  print(\"Your admission is free\") # take that baby to the Field to see some dinos!\n",
    "elif age <= 11: # second test\n",
    "  print(\"Your admission is $27\")\n",
    "elif age >= 65: # third test\n",
    "  print(\"Your admission is $35\")\n",
    "else: # if all three tests fail\n",
    "  print(\"Your Admission is $38\")"
   ]
  },
  {
   "cell_type": "markdown",
   "metadata": {
    "id": "ddWy-J9AtHb6"
   },
   "source": [
    "### 10.1 Dictionaries and `f strings` in the `elif` statement.\n",
    "\n",
    "This code is a little clunky and you have to hard code all the prices in the `if` statement. Recalling from our dictionaries from yesterday, we can instead use a dictionary and an `f string` to print it out specific prices in our `if` statement.\n",
    "\n",
    "So we will first set up our dictionary named `field_dictionary`:\n",
    "\n"
   ]
  },
  {
   "cell_type": "code",
   "execution_count": 81,
   "metadata": {
    "colab": {
     "base_uri": "https://localhost:8080/"
    },
    "executionInfo": {
     "elapsed": 123,
     "status": "ok",
     "timestamp": 1625080546764,
     "user": {
      "displayName": "Jess Senger",
      "photoUrl": "",
      "userId": "08376289370634799181"
     },
     "user_tz": 300
    },
    "id": "upqnmnNTtMut",
    "outputId": "cb754e95-a9b0-40dd-af5c-9feb57346ecf"
   },
   "outputs": [
    {
     "name": "stdout",
     "output_type": "stream",
     "text": [
      "{'baby': 0, 'child': 27, 'adult': 38, 'senior': 35}\n"
     ]
    }
   ],
   "source": [
    "life_stages = [\"baby\", \"child\", \"adult\", \"senior\"]\n",
    "admission = [0, 27, 38, 35]\n",
    "\n",
    "field_dictionary = dict(zip(life_stages, admission))\n",
    "print(field_dictionary)"
   ]
  },
  {
   "cell_type": "markdown",
   "metadata": {
    "id": "9EHz0Ljjce7A"
   },
   "source": [
    "We can use the function `get` and the key `child` to call up the price of admission for a child:"
   ]
  },
  {
   "cell_type": "code",
   "execution_count": 82,
   "metadata": {
    "colab": {
     "base_uri": "https://localhost:8080/"
    },
    "executionInfo": {
     "elapsed": 119,
     "status": "ok",
     "timestamp": 1625080782541,
     "user": {
      "displayName": "Jess Senger",
      "photoUrl": "",
      "userId": "08376289370634799181"
     },
     "user_tz": 300
    },
    "id": "08TXZsIk17Il",
    "outputId": "85b3010a-a104-45c2-874f-9ca99860625a"
   },
   "outputs": [
    {
     "data": {
      "text/plain": [
       "35"
      ]
     },
     "execution_count": 82,
     "metadata": {},
     "output_type": "execute_result"
    }
   ],
   "source": [
    "field_dictionary.get('senior')"
   ]
  },
  {
   "cell_type": "markdown",
   "metadata": {
    "id": "DxVCnuNtcq4K"
   },
   "source": [
    "We can now use an `f string` to print these values together by setting the `admission_price` using the dictionary and then calling that inside curly brackets in the `f string`. "
   ]
  },
  {
   "cell_type": "code",
   "execution_count": 83,
   "metadata": {
    "colab": {
     "base_uri": "https://localhost:8080/"
    },
    "executionInfo": {
     "elapsed": 121,
     "status": "ok",
     "timestamp": 1625080790209,
     "user": {
      "displayName": "Jess Senger",
      "photoUrl": "",
      "userId": "08376289370634799181"
     },
     "user_tz": 300
    },
    "id": "yZ17FvjDgmH7",
    "outputId": "938e2724-037d-4485-912d-6c67c493d009"
   },
   "outputs": [
    {
     "name": "stdout",
     "output_type": "stream",
     "text": [
      "The cost of admission is $38\n"
     ]
    }
   ],
   "source": [
    "admission_price = field_dictionary.get('adult') # use the key to get the admission price value\n",
    "\n",
    "print(f\"The cost of admission is ${admission_price}\") # print out the correct admission price for each life stage"
   ]
  },
  {
   "cell_type": "markdown",
   "metadata": {
    "id": "TniR04g0lxCb"
   },
   "source": [
    "You can even save this to a variable called `new_string` that will `print` out the string with the correct admission price. "
   ]
  },
  {
   "cell_type": "code",
   "execution_count": 84,
   "metadata": {
    "colab": {
     "base_uri": "https://localhost:8080/"
    },
    "executionInfo": {
     "elapsed": 121,
     "status": "ok",
     "timestamp": 1625080796881,
     "user": {
      "displayName": "Jess Senger",
      "photoUrl": "",
      "userId": "08376289370634799181"
     },
     "user_tz": 300
    },
    "id": "9fxrS0dxkYwn",
    "outputId": "e1b848fa-202c-44e2-d326-840c14016c4e"
   },
   "outputs": [
    {
     "name": "stdout",
     "output_type": "stream",
     "text": [
      "The cost of admission is $38\n"
     ]
    }
   ],
   "source": [
    "admission_price = field_dictionary.get('adult') # use the key to get the admission price value\n",
    "\n",
    "new_string= f\"The cost of admission is ${admission_price}\"\n",
    "\n",
    "print(new_string)"
   ]
  },
  {
   "cell_type": "markdown",
   "metadata": {
    "id": "OSK6t80jdQla"
   },
   "source": [
    "So we can include this back in our original `if` statement:"
   ]
  },
  {
   "cell_type": "code",
   "execution_count": 85,
   "metadata": {
    "colab": {
     "base_uri": "https://localhost:8080/"
    },
    "executionInfo": {
     "elapsed": 172,
     "status": "ok",
     "timestamp": 1625080803693,
     "user": {
      "displayName": "Jess Senger",
      "photoUrl": "",
      "userId": "08376289370634799181"
     },
     "user_tz": 300
    },
    "id": "YK5mZua_dUBw",
    "outputId": "5ff47e84-db3e-4a0f-ff09-cdd834a33847"
   },
   "outputs": [
    {
     "name": "stdout",
     "output_type": "stream",
     "text": [
      "The cost of admission for an adult is $38\n"
     ]
    }
   ],
   "source": [
    "# create a dictionary for life stages and admission price\n",
    "life_stages = [\"baby\", \"child\", \"adult\", \"senior\"]\n",
    "admission = [0, 27, 38, 35]\n",
    "field_dictionary = dict(zip(life_stages, admission))\n",
    "\n",
    "# set our age we want to test\n",
    "age = 15\n",
    "\n",
    "# use our elif statements to tell us our price of admission\n",
    "if age < 3:\n",
    "  admission_price = field_dictionary.get('baby')\n",
    "  print(f\"The cost of admission for a baby is ${admission_price}\")\n",
    "elif age <= 11:\n",
    "  admission_price = field_dictionary.get('child')\n",
    "  print(f\"The cost of admission for a child is ${admission_price}\")\n",
    "elif age >= 65: \n",
    "  admission_price = field_dictionary.get('senior')\n",
    "  print(f\"The cost of admission for a senior is ${admission_price}\")\n",
    "else: \n",
    "  admission_price = field_dictionary.get('adult')\n",
    "  print(f\"The cost of admission for an adult is ${admission_price}\")"
   ]
  },
  {
   "cell_type": "markdown",
   "metadata": {
    "id": "gDc8OpmEf8Zy"
   },
   "source": [
    "## 11 Coding check in!\n",
    "\n",
    "You're running a pet grooming salon and you take in cats, dogs, and elephants but nothing else. Set a fair price for each of these animals using a dictionary. Set up a series of `if` and `elif` statements that tell the customer how much it will be to wash their pet. Make sure to tell them that if it's not a cat, dog, or elephant, you can't groom their animal!\n",
    "\n"
   ]
  },
  {
   "cell_type": "code",
   "execution_count": null,
   "metadata": {
    "id": "g250-3xng979"
   },
   "outputs": [],
   "source": [
    "### space to put your code here!\n",
    "\n",
    "\n",
    "## dictionary of animals and prices\n",
    "\n",
    "\n",
    "\n",
    "# define your pet\n",
    "\n",
    "\n",
    "\n",
    "\n",
    "# elif statements"
   ]
  },
  {
   "cell_type": "markdown",
   "metadata": {
    "id": "57rss4jWddee"
   },
   "source": [
    "## 12 Using `in` to test if a value is in a list\n",
    "\n",
    "We can also use the test `in` to see if a value or string is in a list. We must go through the list by using a `for` loop, and then test the conditions of that using an if statements. This is an example of nesting an `if` statement within a `for` loop.\n",
    "\n",
    "Imagine you are at an ice cream sundae shop and you're requesting flavors. We want to loop through out requested toppings to see if they are available at the shop. \n",
    "\n",
    "We first define the toppings available, then the toppings requested. Then we use a for loop to go through each of the toppings requested. If the topping in `toppings_requested` is in `toppings_available` it will print that it's adding the topping. If it is not available, it says we don't have that topping."
   ]
  },
  {
   "cell_type": "code",
   "execution_count": 86,
   "metadata": {
    "colab": {
     "base_uri": "https://localhost:8080/",
     "height": 69
    },
    "executionInfo": {
     "elapsed": 571,
     "status": "ok",
     "timestamp": 1599066175339,
     "user": {
      "displayName": "Katherine Dixon",
      "photoUrl": "",
      "userId": "15494218692838460261"
     },
     "user_tz": 300
    },
    "id": "pjA4ruoPdU-5",
    "outputId": "29be7e40-5a9b-41e8-bf7b-a2a79e9295e3"
   },
   "outputs": [
    {
     "name": "stdout",
     "output_type": "stream",
     "text": [
      "Adding fudge!\n",
      "We don't have cherries!\n",
      "Adding sprinkles!\n",
      "Adding whipped cream!\n"
     ]
    }
   ],
   "source": [
    "toppings_available = ['sprinkles', 'fudge', 'whipped cream', 'bananas'] # the toppings available at the shop\n",
    "toppings_requested = ['fudge', 'cherries', 'sprinkles', 'whipped cream'] # the toppings someone orders\n",
    "\n",
    "for topping in toppings_requested: # for loop going through each of the requested toppings\n",
    "    if topping in toppings_available: # checking to see if each topping is available\n",
    "        print(f\"Adding {topping}!\")\n",
    "    else: # if it is not available\n",
    "        print(f\"We don't have {topping}!\")\n"
   ]
  },
  {
   "cell_type": "markdown",
   "metadata": {
    "id": "0wRRMG1UzNzr"
   },
   "source": [
    "## 13 Coding check in\n",
    "\n",
    "Imagine you're at a local boutique and you want to buy a vase for a friend. Your friend is very picky about their colors, and you need to ask the store manager if she has any specific colors available.\n",
    "\n",
    "Create a list of three colors that the store manager has (`colors_available`), and another list of three colors your friend might like (`colors_want`). Have the store manager respond with whether or not they have that color available for all the colors your friend might like.\n"
   ]
  },
  {
   "cell_type": "code",
   "execution_count": null,
   "metadata": {
    "id": "rReS_nZvh2Z5"
   },
   "outputs": [],
   "source": [
    "### coding check in here\n",
    "\n",
    "# lists of colors available and colors you want\n",
    "\n",
    "# for loop and if statement\n",
    "\n",
    "\n",
    "\n",
    "\n",
    "\n"
   ]
  },
  {
   "cell_type": "markdown",
   "metadata": {},
   "source": [
    "## Day 3's Homework: Fizzbuzz\n",
    "\n",
    "Perhaps you are familiar with the game fizzbuzz -- count integers, but say \"fizz\" instead of multiples of three, \"buzz\" rather than multiples of 5, and \"fizzbuzz\" for multiples of three and five; i.e., \"1 2 fizz 4 buzz fizz 7 8 fizz buzz ...\".\n",
    "\n",
    "Write a program that given a starting integer m and ending integer n, prints the 'fizzbuzz' sequence between them. however, rather than multiples of 3 and 5, your program should also accept integers a and b to serve as fizz and buzz. assume that the inputs are always valid.\n",
    "\n",
    "\n",
    "A useful operator may be `%` which is the \"modulo\" orperator. The modulo division operator produces the remainder of an integer division. Syntax: If x and y are integers, then the expression: x % y. produces the remainder when x is divided by y. Here are three examples:"
   ]
  },
  {
   "cell_type": "code",
   "execution_count": null,
   "metadata": {},
   "outputs": [],
   "source": [
    "# 10 goes into 20 two times, the remainder is 1\n",
    "21 % 10"
   ]
  },
  {
   "cell_type": "code",
   "execution_count": null,
   "metadata": {},
   "outputs": [],
   "source": [
    "# 5 goes into 27 five times, the remainder is 2\n",
    "27 % 5"
   ]
  },
  {
   "cell_type": "code",
   "execution_count": null,
   "metadata": {},
   "outputs": [],
   "source": [
    "# 5 goes into 25 five times, the remainder is 0\n",
    "25 % 5"
   ]
  },
  {
   "cell_type": "code",
   "execution_count": null,
   "metadata": {},
   "outputs": [],
   "source": [
    "## try it out!\n",
    "\n",
    "\n",
    "\n",
    "\n",
    "\n",
    "\n",
    "\n",
    "\n",
    "\n",
    "\n",
    "\n",
    "\n"
   ]
  },
  {
   "cell_type": "markdown",
   "metadata": {},
   "source": [
    "# Answers to the coding check ins"
   ]
  },
  {
   "cell_type": "markdown",
   "metadata": {
    "id": "BuXbGl5VVGBN"
   },
   "source": [
    "\n",
    "### 2 Answer"
   ]
  },
  {
   "cell_type": "code",
   "execution_count": null,
   "metadata": {
    "colab": {
     "base_uri": "https://localhost:8080/"
    },
    "executionInfo": {
     "elapsed": 162,
     "status": "ok",
     "timestamp": 1625216030154,
     "user": {
      "displayName": "Katerina Levi",
      "photoUrl": "",
      "userId": "14790590329608039426"
     },
     "user_tz": 240
    },
    "id": "foJi3D_WKg_L",
    "outputId": "c7a4551f-8cae-46cc-cbda-0803d881b1f6"
   },
   "outputs": [],
   "source": [
    "# set up empty array\n",
    "celcius = []\n",
    "\n",
    "\n",
    "# set up for loop with range\n",
    "for i in range(-10,81,10):\n",
    "  celcius.append((i -32) * (5/9))\n",
    "\n",
    "\n",
    "# print out your new array\n",
    "print(celcius)"
   ]
  },
  {
   "cell_type": "markdown",
   "metadata": {},
   "source": [
    "### 4 Answer"
   ]
  },
  {
   "cell_type": "code",
   "execution_count": null,
   "metadata": {},
   "outputs": [],
   "source": [
    "tupperware = ['blue', 'red', 'green', 'yellow','orange']\n",
    "\n",
    "heights_list = [3, 4, 5, 6, 6.5]\n",
    "widths_list = [7, 5, 6, 4, 3]\n",
    "lengths_list = [3, 2, 2.5, 2 ,3]\n",
    "\n",
    "heights_dict = dict(zip(tupperware, heights_list))\n",
    "widths_dict = dict(zip(tupperware, widths_list))\n",
    "lengths_dict = dict(zip(tupperware, lengths_list))\n",
    "\n",
    "for key in tupperware:\n",
    "    height = heights_dict[key]\n",
    "    width = widths_dict[key]\n",
    "    length = lengths_dict[key]\n",
    "    \n",
    "    volume = round(height*width*length,1)\n",
    "\n",
    "    print(f\"{key} tupperware has {volume} in^3\")"
   ]
  },
  {
   "cell_type": "code",
   "execution_count": null,
   "metadata": {},
   "outputs": [],
   "source": [
    "for i in range(0,len(tupperware),1):\n",
    "    volume = heights_list[i]*widths_list[i]*lengths_list[i]\n",
    "    print(f\"{tupperware[i]} tupperware has {volume} in^3\")"
   ]
  },
  {
   "cell_type": "markdown",
   "metadata": {},
   "source": [
    "### 6 Answer"
   ]
  },
  {
   "cell_type": "code",
   "execution_count": 46,
   "metadata": {},
   "outputs": [
    {
     "name": "stdout",
     "output_type": "stream",
     "text": [
      "0 cups is 0 oz\n",
      "0 cups is 0 tbsp\n",
      "0 cups is 0 tsp\n",
      "0 cups is 0 ml\n",
      "0.25 cups is 2.0 oz\n",
      "0.25 cups is 4.0 tbsp\n",
      "0.25 cups is 12.0 tsp\n",
      "0.25 cups is 59.25 ml\n",
      "0.5 cups is 4.0 oz\n",
      "0.5 cups is 8.0 tbsp\n",
      "0.5 cups is 24.0 tsp\n",
      "0.5 cups is 118.5 ml\n",
      "1 cups is 8 oz\n",
      "1 cups is 16 tbsp\n",
      "1 cups is 48 tsp\n",
      "1 cups is 237 ml\n",
      "2 cups is 16 oz\n",
      "2 cups is 32 tbsp\n",
      "2 cups is 96 tsp\n",
      "2 cups is 474 ml\n"
     ]
    }
   ],
   "source": [
    "# make a list of cup sizes\n",
    "cups_vals = [0,0.25,0.5,1,2]\n",
    "\n",
    "# conversions dictionary \n",
    "metrics = ['oz','tbsp','tsp','ml']\n",
    "conversions = [8,16,48, 237]\n",
    "\n",
    "conv_dict = dict(zip(metrics,conversions))\n",
    "\n",
    "# nested for loops\n",
    "for cups in cups_vals:\n",
    "    for key in conv_dict:\n",
    "        \n",
    "        new_conv = cups*conv_dict.get(key)\n",
    "        \n",
    "        print(f\"{cups} cups is {new_conv} {key}\")\n"
   ]
  },
  {
   "cell_type": "markdown",
   "metadata": {
    "id": "jUjzh5FwoeJI"
   },
   "source": [
    "### 8 Answer"
   ]
  },
  {
   "cell_type": "code",
   "execution_count": null,
   "metadata": {
    "colab": {
     "base_uri": "https://localhost:8080/"
    },
    "executionInfo": {
     "elapsed": 107,
     "status": "ok",
     "timestamp": 1625079157601,
     "user": {
      "displayName": "Jess Senger",
      "photoUrl": "",
      "userId": "08376289370634799181"
     },
     "user_tz": 300
    },
    "id": "dTHbaGSenTII",
    "outputId": "2ba095bf-cf9a-4db2-c61d-cfe6a552011f"
   },
   "outputs": [],
   "source": [
    "brady_throw = 55\n",
    "gronk_open = True\n",
    "\n",
    "if (brady_throw >= 60) and (gronk_open == True):\n",
    "  print(\"Brady passes to Gronk for the Touch Down, Buccs win!!\")\n",
    "else:\n",
    "  print(\"Brady and Gronk fail to make the pass, the Browns win the game!!\")\n",
    "\n",
    "# Let's go Brownies!\n",
    "# there are several ways this could be written and be more complicated"
   ]
  },
  {
   "cell_type": "markdown",
   "metadata": {
    "id": "RXK4rcKvhAB-"
   },
   "source": [
    "### 11 Answer to coding check in!"
   ]
  },
  {
   "cell_type": "code",
   "execution_count": null,
   "metadata": {
    "colab": {
     "base_uri": "https://localhost:8080/"
    },
    "executionInfo": {
     "elapsed": 153,
     "status": "ok",
     "timestamp": 1625216595123,
     "user": {
      "displayName": "Katerina Levi",
      "photoUrl": "",
      "userId": "14790590329608039426"
     },
     "user_tz": 240
    },
    "id": "_JzovXpreKcL",
    "outputId": "89189098-26c6-4727-e796-c6ec3e9fa400"
   },
   "outputs": [],
   "source": [
    "animals = [\"cat\", \"dog\", \"elephant\"]\n",
    "price = [25, 50, 1000]\n",
    "\n",
    "pet_grooming_dict = dict(zip(animals,price))\n",
    "\n",
    "pet = \"elephant\"\n",
    "\n",
    "if pet == \"cat\":\n",
    "  wash_price = pet_grooming_dict.get(\"cat\")\n",
    "  print(f\"The cost to wash your cat is ${wash_price}\")\n",
    "elif pet == \"dog\":\n",
    "  wash_price = pet_grooming_dict.get(\"dog\")\n",
    "  print(f\"The cost to wash your dog is ${wash_price}\")\n",
    "elif pet == \"elephant\":\n",
    "  wash_price = pet_grooming_dict.get(\"elephant\")\n",
    "  print(f\"The cost to wash your elephant is ${wash_price}\")\n",
    "else:\n",
    "  print(\"We don't wash that species here\")\n"
   ]
  },
  {
   "cell_type": "markdown",
   "metadata": {
    "id": "mIS9yYDeh_-h"
   },
   "source": [
    "### 13 Coding check in answer"
   ]
  },
  {
   "cell_type": "code",
   "execution_count": 87,
   "metadata": {
    "colab": {
     "base_uri": "https://localhost:8080/"
    },
    "executionInfo": {
     "elapsed": 127,
     "status": "ok",
     "timestamp": 1625081202678,
     "user": {
      "displayName": "Jess Senger",
      "photoUrl": "",
      "userId": "08376289370634799181"
     },
     "user_tz": 300
    },
    "id": "7O10j-oieWyf",
    "outputId": "35c86732-985f-4940-90ae-7f3151fcb87a"
   },
   "outputs": [
    {
     "name": "stdout",
     "output_type": "stream",
     "text": [
      "We have a vase in violet!\n",
      "We don't have a vase in pink!\n",
      "We have a vase in blue!\n"
     ]
    }
   ],
   "source": [
    "colors_available = ['red', 'blue', 'violet'] # the colors available from the store\n",
    "colors_want = ['violet', 'pink', 'blue'] # the colors your friend might like\n",
    "\n",
    "for color in colors_want: # for loop going through each of the requested toppings\n",
    "  if color in colors_available: # checking to see if each topping is available\n",
    "    print(f\"We have a vase in {color}!\")\n",
    "  else: # if it is not available\n",
    "    print(f\"We don't have a vase in {color}!\")"
   ]
  },
  {
   "cell_type": "code",
   "execution_count": null,
   "metadata": {},
   "outputs": [],
   "source": []
  }
 ],
 "metadata": {
  "colab": {
   "collapsed_sections": [],
   "name": "Day3_Loops_and_if_Statements.ipynb",
   "provenance": [
    {
     "file_id": "1nghQHVEfV4ScLEpVL0dw375gid26cuet",
     "timestamp": 1618585936844
    }
   ]
  },
  "kernelspec": {
   "display_name": "Python 3",
   "language": "python",
   "name": "python3"
  },
  "language_info": {
   "codemirror_mode": {
    "name": "ipython",
    "version": 3
   },
   "file_extension": ".py",
   "mimetype": "text/x-python",
   "name": "python",
   "nbconvert_exporter": "python",
   "pygments_lexer": "ipython3",
   "version": "3.7.0"
  }
 },
 "nbformat": 4,
 "nbformat_minor": 1
}
