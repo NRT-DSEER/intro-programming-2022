{
 "cells": [
  {
   "cell_type": "markdown",
   "id": "798db78b",
   "metadata": {},
   "source": [
    "# Skill Check"
   ]
  },
  {
   "cell_type": "code",
   "execution_count": null,
   "id": "24212d03",
   "metadata": {},
   "outputs": [],
   "source": [
    "#14.3\n",
    "#your task is to fill in the table above using a for loop\n",
    "\n",
    "for i in Ice_data.columns[2:]:\n",
    "    my_lake_stats.loc[my_lake_stats['Lake']==i,'Mean']=Ice_data[i].mean()\n",
    "    my_lake_stats.loc[my_lake_stats['Lake']==i,'ptp']=np.ptp(Ice_data[i])\n",
    "    my_lake_stats.loc[my_lake_stats['Lake']==i,'std']=np.std(Ice_data[i])\n",
    "    \n",
    "my_lake_stats"
   ]
  },
  {
   "cell_type": "code",
   "execution_count": null,
   "id": "6ab47ddf",
   "metadata": {},
   "outputs": [],
   "source": [
    "#15\n",
    "temp_data['Temp_F']=(temp_data['Temp']*(9/5))+32\n",
    "temp_data.loc[temp_data['Lake']=='MI',].groupby('Month')['Temp_F'].agg(['mean',np.ptp,'max']).reset_index()"
   ]
  },
  {
   "cell_type": "code",
   "execution_count": null,
   "id": "85d25dbc",
   "metadata": {},
   "outputs": [],
   "source": [
    "#16\n",
    "lakes_wanted=['MI','HU']\n",
    "my_table=temp_data.loc[temp_data['Lake'].isin(lakes_wanted)].pivot_table(values=['Temp_F'],\n",
    "                    index=['Lake','Year'],aggfunc={'Temp_F': [np.std,np.mean,np.ptp]})\n",
    "my_table.columns=my_table.columns.droplevel(0)\n",
    "my_table.reset_index(inplace=True)\n",
    "my_table"
   ]
  },
  {
   "cell_type": "markdown",
   "id": "f87ce009",
   "metadata": {},
   "source": [
    "# Homework"
   ]
  },
  {
   "cell_type": "markdown",
   "id": "3c9eb3e0",
   "metadata": {},
   "source": [
    "# 1."
   ]
  },
  {
   "cell_type": "code",
   "execution_count": null,
   "id": "49a48f1e",
   "metadata": {},
   "outputs": [],
   "source": [
    "def get_ice_data(year):\n",
    "    #read in data but only first 5 rows since we know we need to chage the reading parameters\n",
    "    #use f_format to change the values in the string \n",
    "    read_in_data=pd.read_table(datadirectory+f'gl_{year}_{year+1}_ice.csv',nrows=5)\n",
    "    \n",
    "    #get column names\n",
    "    ice_names=read_in_data.iloc[2].str.split(\" +\", n = 8, expand = True)\n",
    "    ice_names_dict=dict(zip(ice_names.keys(),ice_names.iloc[0,]))\n",
    "    \n",
    "    #make a clean table\n",
    "    ice_clean=pd.read_csv(datadirectory+f'gl_{year}_{year+1}_ice.csv',skiprows=5,header=None,delim_whitespace=True)\n",
    "    ice_clean.rename(columns=ice_names_dict,inplace=True)\n",
    "    lake_initials={'Sup.':'SU','Mich.':'MI','Huron':'HU','Erie':'ER','Ont.':'ON'}\n",
    "    ice_clean.rename(columns=lake_initials,inplace=True)\n",
    "    ice_clean.drop(['St.Clr','GL Total'],axis=1,inplace=True)\n",
    "    \n",
    "    #add date column\n",
    "    ice_clean['date']=pd.to_datetime(ice_clean['Year'].astype(str)+' '+ice_clean['Day'].astype(str), format='%Y %j')\n",
    "    #add month column\n",
    "    ice_clean['Month']=pd.DatetimeIndex(ice_clean['date']).month.astype(int)\n",
    "    #drop date column\n",
    "    ice_clean.drop(['date'],axis=1,inplace=True)\n",
    "\n",
    "    #return the clean table\n",
    "    return ice_clean\n",
    "\n",
    "get_ice_data(2016)"
   ]
  },
  {
   "cell_type": "markdown",
   "id": "ffaba811",
   "metadata": {},
   "source": [
    "# 2."
   ]
  },
  {
   "cell_type": "code",
   "execution_count": null,
   "id": "91da08fc",
   "metadata": {},
   "outputs": [],
   "source": [
    "#1 Lake yearly ice_concentration% average and max\n",
    "melt_ice.groupby(['Lake','Year'])['ice_concentration%'].agg(('mean', 'max')).reset_index()"
   ]
  },
  {
   "cell_type": "code",
   "execution_count": null,
   "id": "4d166e38",
   "metadata": {},
   "outputs": [],
   "source": [
    "#2. Lake monthly count and min per year\n",
    "melt_ice.groupby(['Lake','Month'])['ice_concentration%'].agg(('count', 'min')).reset_index()"
   ]
  },
  {
   "cell_type": "code",
   "execution_count": null,
   "id": "535667c9",
   "metadata": {},
   "outputs": [],
   "source": [
    "#3. Yearly standard_deviation for the entire region \n",
    "table1=pd.pivot_table(melt_ice, values=['ice_concentration%'], \n",
    "                      index=['Year'],aggfunc={'ice_concentration%': [np.std]})\n",
    "table1.columns=table1.columns.droplevel(0)\n",
    "table1=table1.reset_index()\n",
    "table1"
   ]
  },
  {
   "cell_type": "code",
   "execution_count": null,
   "id": "877ac2cc",
   "metadata": {},
   "outputs": [],
   "source": [
    "#4. Monthly ptp for the entire region in the past 10 years \n",
    "table2=pd.pivot_table(melt_ice, values=['ice_concentration%'], \n",
    "                      index=['Month'],aggfunc={'ice_concentration%': [np.ptp]})\n",
    "table2.columns=table2.columns.droplevel(0)\n",
    "table2=table2.reset_index()\n",
    "table2"
   ]
  }
 ],
 "metadata": {
  "kernelspec": {
   "display_name": "Python [conda env:root] *",
   "language": "python",
   "name": "conda-root-py"
  },
  "language_info": {
   "codemirror_mode": {
    "name": "ipython",
    "version": 3
   },
   "file_extension": ".py",
   "mimetype": "text/x-python",
   "name": "python",
   "nbconvert_exporter": "python",
   "pygments_lexer": "ipython3",
   "version": "3.8.11"
  }
 },
 "nbformat": 4,
 "nbformat_minor": 5
}
