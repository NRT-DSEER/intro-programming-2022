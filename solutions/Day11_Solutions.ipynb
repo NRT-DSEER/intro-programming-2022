{
 "cells": [
  {
   "cell_type": "markdown",
   "id": "a9e9ee25",
   "metadata": {},
   "source": [
    "# 17.2"
   ]
  },
  {
   "cell_type": "code",
   "execution_count": null,
   "id": "a86eb5bb",
   "metadata": {},
   "outputs": [],
   "source": [
    "#set up your facetgrd here\n",
    "g = sns.FacetGrid(pokemon,col='Generation',col_wrap=3)\n",
    "#add plot\n",
    "g.map_dataframe(sns.violinplot,x='Generation',\n",
    "                y='Attack',hue='Type 1',palette='tab20')\n",
    "#make some changes\n",
    "\n",
    "#add legend\n",
    "g.add_legend()\n",
    "#change axis labels\n",
    "g.set_axis_labels(\"\", \"Attack\")\n",
    "#make xticks empty\n",
    "g.set_xticklabels([])\n",
    "#change size\n",
    "g.fig.set_size_inches(16,6)\n",
    "#see figure\n",
    "g"
   ]
  },
  {
   "cell_type": "markdown",
   "id": "4d346ae9",
   "metadata": {},
   "source": [
    "# 18."
   ]
  },
  {
   "cell_type": "code",
   "execution_count": null,
   "id": "2d6b7136",
   "metadata": {},
   "outputs": [],
   "source": [
    "##add your points here\n",
    "my_df=pd.DataFrame({'City':['PVD','NYC','CHI'],\n",
    "                   'Lat':[41.8,40.8,41.7],\n",
    "                   'Lon':[-71,-73,-87.6]})\n",
    "\n",
    "\n",
    "plt.figure(figsize=(12, 6))\n",
    "\n",
    "#select a projection\n",
    "ax = plt.axes(projection=crs.PlateCarree())\n",
    "ax.set_global()\n",
    "\n",
    "####add more to the map\n",
    "ax.coastlines()\n",
    "ax.add_feature(cartopy.feature.OCEAN,color='lightblue')\n",
    "ax.add_feature(cartopy.feature.LAND,color='green')\n",
    "\n",
    "###add a title\n",
    "ax.set_title('Cities I have lived in')\n",
    "\n",
    "####change the view of your points\n",
    "ax.scatter(x=my_df.Lon, y=my_df.Lat,color=\"red\",s=60,\n",
    "           marker='x',transform=crs.PlateCarree())\n",
    "\n",
    "#save your map-uncomment line and change file name\n",
    "plt.savefig(data_out_directory+'map_name.pdf')\n",
    "\n",
    "#then show, if you run show before save you will not save anything \n",
    "plt.show()"
   ]
  }
 ],
 "metadata": {
  "kernelspec": {
   "display_name": "Python [conda env:root] *",
   "language": "python",
   "name": "conda-root-py"
  },
  "language_info": {
   "codemirror_mode": {
    "name": "ipython",
    "version": 3
   },
   "file_extension": ".py",
   "mimetype": "text/x-python",
   "name": "python",
   "nbconvert_exporter": "python",
   "pygments_lexer": "ipython3",
   "version": "3.8.11"
  }
 },
 "nbformat": 4,
 "nbformat_minor": 5
}
